{
 "cells": [
  {
   "cell_type": "markdown",
   "metadata": {
    "id": "G-effaRbQQVR",
    "lang": "ja"
   },
   "source": [
    "NAVIGATION ROS STACK INTRO"
   ]
  },
  {
   "cell_type": "markdown",
   "metadata": {
    "id": "SkYzVnYvQQVU"
   },
   "source": [
    "ITESM CCM \n",
    "Oscar Fuentes\n",
    "\n",
    "\n",
    "Para correr este notebook debe tenerse familiaridad con términos de ROS como tópicos, listeners, publishers, mensajes etc.\n"
   ]
  },
  {
   "cell_type": "code",
   "execution_count": null,
   "metadata": {
    "id": "537iglBRQQVV"
   },
   "outputs": [],
   "source": []
  },
  {
   "cell_type": "code",
   "execution_count": 2,
   "metadata": {
    "colab": {
     "base_uri": "https://localhost:8080/",
     "height": 376
    },
    "executionInfo": {
     "elapsed": 349,
     "status": "error",
     "timestamp": 1660844996566,
     "user": {
      "displayName": "Valeria Calle",
      "userId": "14932664033283499409"
     },
     "user_tz": 300
    },
    "id": "7rqs0esnQQVW",
    "outputId": "bd956da9-2b99-4b8b-f63f-1579a6dda252"
   },
   "outputs": [],
   "source": [
    "import math\n",
    "import numpy as np\n",
    "import rospy\n",
    "import time\n",
    "from sensor_msgs.msg import LaserScan\n",
    "from geometry_msgs.msg import Twist\n"
   ]
  },
  {
   "cell_type": "markdown",
   "metadata": {
    "id": "afPDztMgQQVW"
   },
   "source": [
    "Introducimos ahora dos nuevos tipos de mensajes relevantes. Imagen  y nube de puntos, Ambos mensajes propios de ros, \n",
    "se muestran algunas librerías que hacen más fácil su utilización en Python\n",
    "https://www.ros.org/\n",
    "http://wiki.ros.org/ros_numpy\n",
    "http://wiki.ros.org/cv_bridge\n"
   ]
  },
  {
   "cell_type": "code",
   "execution_count": 3,
   "metadata": {
    "id": "aZBg-rpqQQVX"
   },
   "outputs": [],
   "source": [
    "import ros_numpy\n",
    "import tf\n"
   ]
  },
  {
   "cell_type": "code",
   "execution_count": 4,
   "metadata": {
    "id": "JYHLUK94QQVa"
   },
   "outputs": [],
   "source": [
    "rospy.init_node('navigation_notebook_node') \n",
    "base_vel_pub = rospy.Publisher('/cmd_vel', Twist, queue_size=10)"
   ]
  },
  {
   "cell_type": "code",
   "execution_count": 5,
   "metadata": {},
   "outputs": [],
   "source": [
    "from nav_msgs.msg import Path"
   ]
  },
  {
   "cell_type": "code",
   "execution_count": 6,
   "metadata": {},
   "outputs": [],
   "source": [
    "import tf\n",
    "import tf2_ros\n",
    "tfBuffer = tf2_ros.Buffer()\n",
    "listener = tf2_ros.TransformListener(tfBuffer)\n",
    "def get_coords ():\n",
    "    t = tfBuffer.lookup_transform('map', 'base_link', rospy.Time())\n",
    "    quat=t.transform.rotation\n",
    "    _,_,yaw= tf.transformations.euler_from_quaternion(np.asarray((quat.x,quat.y,quat.z,quat.w)))\n",
    "    #print (t.transform.translation.x,t.transform.translation.y,yaw)\n",
    "    \n",
    "    return np.asarray((t.transform.translation.x,t.transform.translation.y,yaw))\n"
   ]
  },
  {
   "cell_type": "code",
   "execution_count": null,
   "metadata": {},
   "outputs": [],
   "source": []
  },
  {
   "cell_type": "code",
   "execution_count": 18,
   "metadata": {},
   "outputs": [
    {
     "data": {
      "text/plain": [
       "array([-0.11800262, -0.10362133,  0.14511519])"
      ]
     },
     "execution_count": 18,
     "metadata": {},
     "output_type": "execute_result"
    }
   ],
   "source": [
    "xyz=get_coords()\n",
    "xyz"
   ]
  },
  {
   "cell_type": "code",
   "execution_count": 1,
   "metadata": {},
   "outputs": [
    {
     "ename": "NameError",
     "evalue": "name 'aaa' is not defined",
     "output_type": "error",
     "traceback": [
      "\u001b[0;31m---------------------------------------------------------------------------\u001b[0m",
      "\u001b[0;31mNameError\u001b[0m                                 Traceback (most recent call last)",
      "Cell \u001b[0;32mIn[1], line 1\u001b[0m\n\u001b[0;32m----> 1\u001b[0m \u001b[43maaa\u001b[49m\n",
      "\u001b[0;31mNameError\u001b[0m: name 'aaa' is not defined"
     ]
    }
   ],
   "source": []
  },
  {
   "cell_type": "code",
   "execution_count": 21,
   "metadata": {},
   "outputs": [],
   "source": [
    "from geometry_msgs.msg   import  PoseStamped\n",
    "from nav_msgs.msg import Path\n",
    "pose = PoseStamped()\n",
    "path= Path()\n",
    "#secs,nsecs= rospy.Time.now().to_sec(),rospy.Time.now().to_nsec()\n",
    "path.header.frame_id='odom'\n",
    "#path.header.stamp.secs=secs\n",
    "#path.header.stamp.nsecs=nsecs\n",
    "pub_path= rospy.Publisher(\"/path_tst\", Path, queue_size=10)\n",
    "for i in range (25):\n",
    "    \n",
    "    #pse.header.stamp.nsecs=56000000\n",
    "    pose=PoseStamped()\n",
    "    pose.header.frame_id='base_link'\n",
    "    pose.header.stamp= path.header.stamp\n",
    "    pose.pose.position.x=1\n",
    "    pose.pose.position.y=0.0+i*2\n",
    "    path.poses.append(pose)\n",
    "pub_path.publish(path)\n"
   ]
  },
  {
   "cell_type": "code",
   "execution_count": 22,
   "metadata": {},
   "outputs": [],
   "source": [
    "cents_path=[]\n",
    "for pose in path.poses:\n",
    "    quat=np.asarray((pose.pose.orientation.w,pose.pose.orientation.x,pose.pose.orientation.y,pose.pose.orientation.z))\n",
    "    _,_,yaw= tf.transformations.euler_from_quaternion(quat)\n",
    "    cents_path.append((pose.pose.position.x,pose.pose.position.y,yaw))\n",
    "cc= np.asarray(cents_path)"
   ]
  },
  {
   "cell_type": "code",
   "execution_count": 23,
   "metadata": {
    "id": "26rXLbPdQQVY"
   },
   "outputs": [
    {
     "data": {
      "text/plain": [
       "array([[ 1.,  0.,  0.],\n",
       "       [ 1.,  2.,  0.],\n",
       "       [ 1.,  4.,  0.],\n",
       "       [ 1.,  6.,  0.],\n",
       "       [ 1.,  8.,  0.],\n",
       "       [ 1., 10.,  0.],\n",
       "       [ 1., 12.,  0.],\n",
       "       [ 1., 14.,  0.],\n",
       "       [ 1., 16.,  0.],\n",
       "       [ 1., 18.,  0.],\n",
       "       [ 1., 20.,  0.],\n",
       "       [ 1., 22.,  0.],\n",
       "       [ 1., 24.,  0.],\n",
       "       [ 1., 26.,  0.],\n",
       "       [ 1., 28.,  0.],\n",
       "       [ 1., 30.,  0.],\n",
       "       [ 1., 32.,  0.],\n",
       "       [ 1., 34.,  0.],\n",
       "       [ 1., 36.,  0.],\n",
       "       [ 1., 38.,  0.],\n",
       "       [ 1., 40.,  0.],\n",
       "       [ 1., 42.,  0.],\n",
       "       [ 1., 44.,  0.],\n",
       "       [ 1., 46.,  0.],\n",
       "       [ 1., 48.,  0.]])"
      ]
     },
     "execution_count": 23,
     "metadata": {},
     "output_type": "execute_result"
    }
   ],
   "source": [
    "\n",
    "cc"
   ]
  },
  {
   "cell_type": "code",
   "execution_count": 25,
   "metadata": {},
   "outputs": [],
   "source": [
    "def get_signed_e():\n",
    "    \n",
    "    xyth=get_coords()#Cordenadas robot tiempo t\n",
    "    closest_index=    np.linalg.norm((cc-xyth.T),axis=0).argmin()  # punto de la trayectoria más cercano\n",
    "    closest_index_1= closest_index + 1                             #punto siguiente al más cercano\n",
    "    p1,p2= cc[closest_index,:2],cc[closest_index_1,:2]              #Vector trayectoria ( entre puntos anteriores)\n",
    "    cc[closest_index],cc[closest_index_1]\n",
    "    p3= xyth[:2]                                                     #Punto robot para vector error \n",
    "    d = np.linalg.norm(np.cross(p2-p1, p1-p3))/np.linalg.norm(p2-p1)   # error producto cruz normalizado\n",
    "    #print(d,'d')\n",
    "    pto_rob=p2-xyth[:2]\n",
    "    print(pto_rob)\n",
    "    if (pto_rob[0]>0):sign_e=-1*d\n",
    "    else:sign_e=d\n",
    "    return sign_e    #Signed point to line distance"
   ]
  },
  {
   "cell_type": "code",
   "execution_count": 26,
   "metadata": {},
   "outputs": [],
   "source": [
    "\n",
    "def move_base_vel(vx, vy, vw):\n",
    "    twist = Twist()\n",
    "    twist.linear.x = vx\n",
    "    twist.linear.y = vy\n",
    "    twist.angular.z = vw \n",
    "    base_vel_pub.publish(twist)\n",
    "\n",
    "def move_base(x,y,yaw,timeout=5):\n",
    "    start_time = rospy.Time.now().to_sec()\n",
    "    while rospy.Time.now().to_sec() - start_time < timeout:  \n",
    "        move_base_vel(x, y, yaw)\n",
    "    move_base_vel(0,0, 0)"
   ]
  },
  {
   "cell_type": "code",
   "execution_count": null,
   "metadata": {},
   "outputs": [],
   "source": []
  },
  {
   "cell_type": "code",
   "execution_count": 27,
   "metadata": {},
   "outputs": [],
   "source": [
    "move_base(0,0,0)"
   ]
  },
  {
   "cell_type": "markdown",
   "metadata": {},
   "source": []
  },
  {
   "cell_type": "code",
   "execution_count": 28,
   "metadata": {},
   "outputs": [],
   "source": [
    "pose = PoseStamped()\n",
    "path= Path()\n",
    "#secs,nsecs= rospy.Time.now().to_sec(),rospy.Time.now().to_nsec()\n",
    "path.header.frame_id='base_link'\n",
    "#path.header.stamp.secs=secs\n",
    "#path.header.stamp.nsecs=nsecs\n",
    "pub_path= rospy.Publisher(\"/path_tst\", Path, queue_size=10)\n",
    "for i in range (25):\n",
    "    \n",
    "    #pse.header.stamp.nsecs=56000000\n",
    "    pose=PoseStamped()\n",
    "    pose.header.frame_id='odom'\n",
    "    pose.header.stamp= path.header.stamp\n",
    "    pose.pose.position.x=1+i*2\n",
    "    pose.pose.position.y=0.0\n",
    "    path.poses.append(pose)\n",
    "pub_path.publish(path)\n"
   ]
  },
  {
   "cell_type": "code",
   "execution_count": 30,
   "metadata": {},
   "outputs": [
    {
     "name": "stdout",
     "output_type": "stream",
     "text": [
      "[1.5971024  3.18280032]\n",
      " step number 0error signed-1.5971023968226983 ,velyaw,-0.15971023968226983\n"
     ]
    },
    {
     "name": "stderr",
     "output_type": "stream",
     "text": [
      "Warning: TF_REPEATED_DATA ignoring data with redundant timestamp for frame base_footprint at time 783.457000 according to authority /gazebo\n",
      "         at line 278 in /tmp/binarydeb/ros-noetic-tf2-0.7.6/src/buffer_core.cpp\n"
     ]
    },
    {
     "name": "stdout",
     "output_type": "stream",
     "text": [
      "[1.7158116  3.21887431]\n",
      " step number 1error signed-1.7158116004971093 ,velyaw,-0.17158116004971094\n",
      "[1.81635997 3.25151773]\n",
      " step number 2error signed-1.816359974622813 ,velyaw,-0.18163599746228132\n",
      "[1.91275581 3.28580482]\n",
      " step number 3error signed-1.9127558056502019 ,velyaw,-0.1912755805650202\n",
      "[2.01764118 3.29915718]\n",
      " step number 4error signed-2.0176411830803627 ,velyaw,-0.20176411830803628\n",
      "[2.13000063 3.31311076]\n",
      " step number 5error signed-2.130000628934917 ,velyaw,-0.21300006289349172\n",
      "[2.23548946 3.30605437]\n",
      " step number 6error signed-2.2354894622672288 ,velyaw,-0.2235489462267229\n"
     ]
    },
    {
     "name": "stderr",
     "output_type": "stream",
     "text": [
      "Warning: TF_REPEATED_DATA ignoring data with redundant timestamp for frame base_footprint at time 786.648000 according to authority /gazebo\n",
      "         at line 278 in /tmp/binarydeb/ros-noetic-tf2-0.7.6/src/buffer_core.cpp\n"
     ]
    },
    {
     "name": "stdout",
     "output_type": "stream",
     "text": [
      "[2.32184058 3.28049639]\n",
      " step number 7error signed-2.321840579540912 ,velyaw,-0.23218405795409122\n",
      "[2.4253939  3.24853246]\n",
      " step number 8error signed-2.4253938965393806 ,velyaw,-0.24253938965393806\n",
      "[2.5188607  3.20465723]\n",
      " step number 9error signed-2.518860702092082 ,velyaw,-0.2518860702092082\n",
      "[2.44324247 2.72426013]\n",
      " step number 10error signed-2.443242465284503 ,velyaw,-0.2443242465284503\n",
      "[2.12338618 3.79636457]\n",
      " step number 11error signed-2.1233861789099744 ,velyaw,-0.21233861789099745\n",
      "[2.202237   3.86345438]\n",
      " step number 12error signed-2.2022369968436672 ,velyaw,-0.22022369968436672\n",
      "[2.28708994 3.92528119]\n",
      " step number 13error signed-2.2870899445451074 ,velyaw,-0.22870899445451076\n",
      "[2.39402241 3.97116744]\n",
      " step number 14error signed-2.3940224095753226 ,velyaw,-0.23940224095753226\n",
      "[2.49166147 4.01239871]\n",
      " step number 15error signed-2.4916614697090025 ,velyaw,-0.24916614697090025\n",
      "[2.59700521 4.02475574]\n",
      " step number 16error signed-2.597005213954422 ,velyaw,-0.2597005213954422\n",
      "[2.70173519 4.0412672 ]\n",
      " step number 17error signed-2.701735190132871 ,velyaw,-0.2701735190132871\n",
      "[2.80916258 4.04816064]\n",
      " step number 18error signed-2.809162582384014 ,velyaw,-0.28091625823840144\n",
      "[2.92086154 4.034772  ]\n",
      " step number 19error signed-2.9208615352441254 ,velyaw,-0.29208615352441253\n",
      "[3.01383779 8.01634352]\n",
      " step number 20error signed-3.013837790838978 ,velyaw,-0.3013837790838978\n",
      "[3.10988854 7.96725714]\n",
      " step number 21error signed-3.1098885351111996 ,velyaw,-0.31098885351112\n",
      "[3.19919899 7.90972468]\n",
      " step number 22error signed-3.1991989935952976 ,velyaw,-0.3199198993595298\n",
      "[3.2875084  7.84309807]\n",
      " step number 23error signed-3.287508401212453 ,velyaw,-0.32875084012124534\n",
      "[3.3565139  7.74011862]\n",
      " step number 24error signed-3.356513896153773 ,velyaw,-0.3356513896153773\n",
      "[3.40690937 7.64580889]\n",
      " step number 25error signed-3.406909369337908 ,velyaw,-0.3406909369337908\n",
      "[3.43603136 7.53724153]\n",
      " step number 26error signed-3.4360313615212776 ,velyaw,-0.3436031361521278\n",
      "[3.44286746 7.42709569]\n",
      " step number 27error signed-3.442867458613681 ,velyaw,-0.3442867458613681\n",
      "[3.45244603 7.31528866]\n",
      " step number 28error signed-3.4524460348090424 ,velyaw,-0.34524460348090424\n",
      "[3.42915173 7.21045406]\n",
      " step number 29error signed-3.4291517339025126 ,velyaw,-0.3429151733902513\n",
      "[3.38914813 7.10953934]\n",
      " step number 30error signed-3.3891481280431344 ,velyaw,-0.33891481280431346\n",
      "[3.33119143 6.99989424]\n",
      " step number 31error signed-3.331191431870651 ,velyaw,-0.3331191431870651\n",
      "[3.24117748 6.91307636]\n",
      " step number 32error signed-3.2411774763917762 ,velyaw,-0.32411774763917767\n"
     ]
    },
    {
     "ename": "KeyboardInterrupt",
     "evalue": "",
     "output_type": "error",
     "traceback": [
      "\u001b[0;31m---------------------------------------------------------------------------\u001b[0m",
      "\u001b[0;31mKeyboardInterrupt\u001b[0m                         Traceback (most recent call last)",
      "Cell \u001b[0;32mIn[30], line 16\u001b[0m\n\u001b[1;32m     14\u001b[0m     \u001b[38;5;28mprint\u001b[39m(\u001b[38;5;124mf\u001b[39m\u001b[38;5;124m'\u001b[39m\u001b[38;5;124m step number \u001b[39m\u001b[38;5;132;01m{\u001b[39;00mi\u001b[38;5;132;01m}\u001b[39;00m\u001b[38;5;124merror signed\u001b[39m\u001b[38;5;132;01m{\u001b[39;00merror\u001b[38;5;132;01m}\u001b[39;00m\u001b[38;5;124m ,velyaw,\u001b[39m\u001b[38;5;132;01m{\u001b[39;00mvel_yaw\u001b[38;5;132;01m}\u001b[39;00m\u001b[38;5;124m'\u001b[39m)\n\u001b[1;32m     15\u001b[0m     \u001b[38;5;66;03m#move_base_vel(0.15,0.0, vel_yaw)\u001b[39;00m\n\u001b[0;32m---> 16\u001b[0m     \u001b[43mmove_base\u001b[49m\u001b[43m(\u001b[49m\u001b[38;5;241;43m0.21\u001b[39;49m\u001b[43m,\u001b[49m\u001b[38;5;241;43m0.0\u001b[39;49m\u001b[43m,\u001b[49m\u001b[43m \u001b[49m\u001b[43mvel_yaw\u001b[49m\u001b[43m,\u001b[49m\u001b[43m \u001b[49m\u001b[38;5;241;43m0.51\u001b[39;49m\u001b[43m)\u001b[49m\n\u001b[1;32m     17\u001b[0m move_base_vel(\u001b[38;5;241m0\u001b[39m,\u001b[38;5;241m0\u001b[39m, \u001b[38;5;241m0\u001b[39m)\n",
      "Cell \u001b[0;32mIn[26], line 11\u001b[0m, in \u001b[0;36mmove_base\u001b[0;34m(x, y, yaw, timeout)\u001b[0m\n\u001b[1;32m      9\u001b[0m start_time \u001b[38;5;241m=\u001b[39m rospy\u001b[38;5;241m.\u001b[39mTime\u001b[38;5;241m.\u001b[39mnow()\u001b[38;5;241m.\u001b[39mto_sec()\n\u001b[1;32m     10\u001b[0m \u001b[38;5;28;01mwhile\u001b[39;00m rospy\u001b[38;5;241m.\u001b[39mTime\u001b[38;5;241m.\u001b[39mnow()\u001b[38;5;241m.\u001b[39mto_sec() \u001b[38;5;241m-\u001b[39m start_time \u001b[38;5;241m<\u001b[39m timeout:  \n\u001b[0;32m---> 11\u001b[0m     \u001b[43mmove_base_vel\u001b[49m\u001b[43m(\u001b[49m\u001b[43mx\u001b[49m\u001b[43m,\u001b[49m\u001b[43m \u001b[49m\u001b[43my\u001b[49m\u001b[43m,\u001b[49m\u001b[43m \u001b[49m\u001b[43myaw\u001b[49m\u001b[43m)\u001b[49m\n\u001b[1;32m     12\u001b[0m move_base_vel(\u001b[38;5;241m0\u001b[39m,\u001b[38;5;241m0\u001b[39m, \u001b[38;5;241m0\u001b[39m)\n",
      "Cell \u001b[0;32mIn[26], line 6\u001b[0m, in \u001b[0;36mmove_base_vel\u001b[0;34m(vx, vy, vw)\u001b[0m\n\u001b[1;32m      4\u001b[0m twist\u001b[38;5;241m.\u001b[39mlinear\u001b[38;5;241m.\u001b[39my \u001b[38;5;241m=\u001b[39m vy\n\u001b[1;32m      5\u001b[0m twist\u001b[38;5;241m.\u001b[39mangular\u001b[38;5;241m.\u001b[39mz \u001b[38;5;241m=\u001b[39m vw \n\u001b[0;32m----> 6\u001b[0m \u001b[43mbase_vel_pub\u001b[49m\u001b[38;5;241;43m.\u001b[39;49m\u001b[43mpublish\u001b[49m\u001b[43m(\u001b[49m\u001b[43mtwist\u001b[49m\u001b[43m)\u001b[49m\n",
      "File \u001b[0;32m/opt/ros/noetic/lib/python3/dist-packages/rospy/topics.py:882\u001b[0m, in \u001b[0;36mPublisher.publish\u001b[0;34m(self, *args, **kwds)\u001b[0m\n\u001b[1;32m    880\u001b[0m \u001b[38;5;28;01mtry\u001b[39;00m:\n\u001b[1;32m    881\u001b[0m     \u001b[38;5;28mself\u001b[39m\u001b[38;5;241m.\u001b[39mimpl\u001b[38;5;241m.\u001b[39macquire()\n\u001b[0;32m--> 882\u001b[0m     \u001b[38;5;28;43mself\u001b[39;49m\u001b[38;5;241;43m.\u001b[39;49m\u001b[43mimpl\u001b[49m\u001b[38;5;241;43m.\u001b[39;49m\u001b[43mpublish\u001b[49m\u001b[43m(\u001b[49m\u001b[43mdata\u001b[49m\u001b[43m)\u001b[49m\n\u001b[1;32m    883\u001b[0m \u001b[38;5;28;01mexcept\u001b[39;00m genpy\u001b[38;5;241m.\u001b[39mSerializationError \u001b[38;5;28;01mas\u001b[39;00m e:\n\u001b[1;32m    884\u001b[0m     \u001b[38;5;66;03m# can't go to rospy.logerr(), b/c this could potentially recurse\u001b[39;00m\n\u001b[1;32m    885\u001b[0m     _logger\u001b[38;5;241m.\u001b[39merror(traceback\u001b[38;5;241m.\u001b[39mformat_exc())\n",
      "File \u001b[0;32m/opt/ros/noetic/lib/python3/dist-packages/rospy/topics.py:1075\u001b[0m, in \u001b[0;36m_PublisherImpl.publish\u001b[0;34m(self, message, connection_override)\u001b[0m\n\u001b[1;32m   1073\u001b[0m \u001b[38;5;28;01mtry\u001b[39;00m:\n\u001b[1;32m   1074\u001b[0m     \u001b[38;5;28;01mif\u001b[39;00m \u001b[38;5;129;01mnot\u001b[39;00m is_shutdown():\n\u001b[0;32m-> 1075\u001b[0m         \u001b[43mc\u001b[49m\u001b[38;5;241;43m.\u001b[39;49m\u001b[43mwrite_data\u001b[49m\u001b[43m(\u001b[49m\u001b[43mdata\u001b[49m\u001b[43m)\u001b[49m\n\u001b[1;32m   1076\u001b[0m \u001b[38;5;28;01mexcept\u001b[39;00m TransportTerminated \u001b[38;5;28;01mas\u001b[39;00m e:\n\u001b[1;32m   1077\u001b[0m     logdebug(\u001b[38;5;124m\"\u001b[39m\u001b[38;5;124mpublisher connection to [\u001b[39m\u001b[38;5;132;01m%s\u001b[39;00m\u001b[38;5;124m] terminated, see errorlog for details:\u001b[39m\u001b[38;5;130;01m\\n\u001b[39;00m\u001b[38;5;132;01m%s\u001b[39;00m\u001b[38;5;124m\"\u001b[39m\u001b[38;5;241m%\u001b[39m(c\u001b[38;5;241m.\u001b[39mendpoint_id, traceback\u001b[38;5;241m.\u001b[39mformat_exc()))\n",
      "File \u001b[0;32m/opt/ros/noetic/lib/python3/dist-packages/rospy/impl/tcpros_pubsub.py:420\u001b[0m, in \u001b[0;36mQueuedConnection.write_data\u001b[0;34m(self, data)\u001b[0m\n\u001b[1;32m    418\u001b[0m     \u001b[38;5;28mself\u001b[39m\u001b[38;5;241m.\u001b[39m_cond_data_available\u001b[38;5;241m.\u001b[39mnotify()\n\u001b[1;32m    419\u001b[0m \u001b[38;5;66;03m# effectively yields the rest of the thread quantum\u001b[39;00m\n\u001b[0;32m--> 420\u001b[0m \u001b[43mtime\u001b[49m\u001b[38;5;241;43m.\u001b[39;49m\u001b[43msleep\u001b[49m\u001b[43m(\u001b[49m\u001b[38;5;241;43m0\u001b[39;49m\u001b[43m)\u001b[49m\n\u001b[1;32m    421\u001b[0m \u001b[38;5;28;01mreturn\u001b[39;00m \u001b[38;5;28;01mTrue\u001b[39;00m\n",
      "\u001b[0;31mKeyboardInterrupt\u001b[0m: "
     ]
    }
   ],
   "source": [
    "for i in range(200):\n",
    "    #xyz=get_coords()\n",
    "    #closest_index=    np.linalg.norm((cc-xyz.T),axis=0).argmin()\n",
    "    #closest_index_1= closest_index + 1\n",
    "    #p1,p2= cc[closest_index,:2],cc[closest_index_1,:2]\n",
    "    #p3= get_coords()[:2]\n",
    "    #d = np.linalg.norm(np.cross(p2-p1, p1-p3))/np.linalg.norm(p2-p1)\n",
    "    #error =d    \n",
    "    error=get_signed_e()\n",
    "    #PROPORTIONAL CONTROL\n",
    "    # SINGLE STEP\n",
    "    Kp=0.1\n",
    "    vel_yaw= error * Kp\n",
    "    print(f' step number {i}error signed{error} ,velyaw,{vel_yaw}')\n",
    "    #move_base_vel(0.15,0.0, vel_yaw)\n",
    "    move_base(0.21,0.0, vel_yaw, 0.51)\n",
    "move_base_vel(0,0, 0)\n"
   ]
  },
  {
   "cell_type": "code",
   "execution_count": null,
   "metadata": {},
   "outputs": [],
   "source": [
    "#############################################"
   ]
  },
  {
   "cell_type": "code",
   "execution_count": null,
   "metadata": {},
   "outputs": [],
   "source": []
  },
  {
   "cell_type": "code",
   "execution_count": null,
   "metadata": {
    "id": "QOvwWN4AQQVZ"
   },
   "outputs": [],
   "source": [
    "last_es=[]\n",
    "for i in range(200):\n",
    "    #xyz=get_coords()\n",
    "    #closest_index=    np.linalg.norm((cc-xyz.T),axis=0).argmin()\n",
    "    #closest_index_1= closest_index + 1\n",
    "    #p1,p2= cc[closest_index,:2],cc[closest_index_1,:2]\n",
    "    #p3= get_coords()[:2]\n",
    "    #d = np.linalg.norm(np.cross(p2-p1, p1-p3))/np.linalg.norm(p2-p1)\n",
    "    #error =d    \n",
    "    error=get_signed_e()\n",
    "    last_es.append(error)\n",
    "    if len (last_es)==20:last_es.pop(0)\n",
    "    aux_np= np.asarray(last_es)\n",
    "    d_error=0\n",
    "    if len (aux_np)>1:d_error= aux_np[-1]-aux_np[-2]\n",
    "    int_T=aux_np.sum()\n",
    "    print (int_T)\n",
    "    \n",
    "    #PID CONTROL\n",
    "    # SINGLE STEP\n",
    "    Kp=0.02\n",
    "    Ki=  0.02\n",
    "    Kd=   40\n",
    "    vel_yaw= error * Kp  + int_T* Ki + d_error*Kd\n",
    "    if (vel_yaw)>0.6:vel_yaw=0.6\n",
    "    elif (vel_yaw)<-0.6:vel_yaw=-0.6\n",
    "    print('error signed',error, 'velyaw',vel_yaw)\n",
    "    #move_base_vel(0.15,0.0, vel_yaw)\n",
    "    move_base(0.21,0.0, vel_yaw, 0.25)\n",
    "\n"
   ]
  },
  {
   "cell_type": "code",
   "execution_count": null,
   "metadata": {},
   "outputs": [],
   "source": []
  },
  {
   "cell_type": "code",
   "execution_count": null,
   "metadata": {},
   "outputs": [],
   "source": []
  },
  {
   "cell_type": "markdown",
   "metadata": {
    "id": "J70VdkIIQQVX"
   },
   "source": []
  },
  {
   "cell_type": "markdown",
   "metadata": {
    "id": "04A8El2KQQVX"
   },
   "source": []
  },
  {
   "cell_type": "markdown",
   "metadata": {
    "id": "Xzfar2zPQQVY"
   },
   "source": []
  },
  {
   "cell_type": "code",
   "execution_count": null,
   "metadata": {},
   "outputs": [],
   "source": [
    "get_signed_e()"
   ]
  },
  {
   "cell_type": "code",
   "execution_count": null,
   "metadata": {},
   "outputs": [],
   "source": [
    "get_signed_e()"
   ]
  },
  {
   "cell_type": "code",
   "execution_count": null,
   "metadata": {},
   "outputs": [],
   "source": []
  },
  {
   "cell_type": "code",
   "execution_count": null,
   "metadata": {},
   "outputs": [],
   "source": []
  },
  {
   "cell_type": "code",
   "execution_count": null,
   "metadata": {},
   "outputs": [],
   "source": []
  },
  {
   "cell_type": "code",
   "execution_count": null,
   "metadata": {},
   "outputs": [],
   "source": []
  },
  {
   "cell_type": "code",
   "execution_count": null,
   "metadata": {},
   "outputs": [],
   "source": [
    "xyth= get_coords()\n",
    "xyth"
   ]
  },
  {
   "cell_type": "code",
   "execution_count": null,
   "metadata": {},
   "outputs": [],
   "source": [
    "#Orientation from robot to p1\n",
    "pto_rob=xyz[:2]-p1\n",
    "print(np.arctan2( pto_rob[1], pto_rob[0]))\n",
    "#Get  cuadrant relative to robot to assign sign in error\n",
    "th=xyth[-1]\n",
    "np.rad2deg(th),th\n"
   ]
  },
  {
   "cell_type": "code",
   "execution_count": null,
   "metadata": {},
   "outputs": [],
   "source": [
    "p1"
   ]
  },
  {
   "cell_type": "code",
   "execution_count": null,
   "metadata": {},
   "outputs": [],
   "source": [
    "v31=(p3-p1)\n",
    "v31\n",
    "np.arctan2(v31[1],v31[0])"
   ]
  },
  {
   "cell_type": "code",
   "execution_count": null,
   "metadata": {},
   "outputs": [],
   "source": [
    "v31"
   ]
  },
  {
   "cell_type": "code",
   "execution_count": null,
   "metadata": {},
   "outputs": [],
   "source": [
    "v31=(p3-p1)\n",
    "np.rad2deg(np.arctan2(v31[1],v31[0]))"
   ]
  },
  {
   "cell_type": "code",
   "execution_count": null,
   "metadata": {},
   "outputs": [],
   "source": []
  },
  {
   "cell_type": "code",
   "execution_count": null,
   "metadata": {},
   "outputs": [],
   "source": [
    "error =d    \n",
    "#PROPORTIONAL CONTROL\n",
    "# SINGLE STEP\n",
    "Kp=1.0\n",
    "vel_yaw= -error * Kp\n",
    "\n",
    "move_base(0.05,0.0, vel_yaw, 1)\n",
    "\n"
   ]
  },
  {
   "cell_type": "code",
   "execution_count": null,
   "metadata": {},
   "outputs": [],
   "source": [
    "\n",
    "move_base(0.1,0 ,0.5)"
   ]
  },
  {
   "cell_type": "code",
   "execution_count": null,
   "metadata": {},
   "outputs": [],
   "source": [
    "xyz"
   ]
  },
  {
   "cell_type": "code",
   "execution_count": null,
   "metadata": {
    "id": "xWDuy-EzQQVZ"
   },
   "outputs": [],
   "source": [
    "cc=np.asarray((cents_path))\n",
    "xyz=np.expand_dims(xyz,axis=1)"
   ]
  },
  {
   "cell_type": "code",
   "execution_count": null,
   "metadata": {},
   "outputs": [],
   "source": []
  },
  {
   "cell_type": "code",
   "execution_count": null,
   "metadata": {},
   "outputs": [],
   "source": [
    "c=np.asarray((cents_path))\n",
    "c"
   ]
  },
  {
   "cell_type": "markdown",
   "metadata": {
    "id": "xd2pCj-mQQVa"
   },
   "source": [
    "Nos valdremos de nuestra vieja función de movimiento, asi como la clase Laser para obtener las lecturas del sensor (revisar notebook 1)"
   ]
  },
  {
   "cell_type": "markdown",
   "metadata": {
    "id": "wchvCbAaQQVa"
   },
   "source": [
    "Simultáneamente , es publicado en el tópico \"/hsrb/head_rgbd_sensor/depth_registered/rectified_points\"\n",
    ", información de la nube de puntos, en forma de un mensaje tipo  PointCloud2"
   ]
  },
  {
   "cell_type": "code",
   "execution_count": null,
   "metadata": {
    "id": "cqJfkquIQQVa"
   },
   "outputs": [],
   "source": [
    "\n",
    "def move_base_vel(vx, vy, vw):\n",
    "    twist = Twist()\n",
    "    twist.linear.x = vx\n",
    "    twist.linear.y = vy\n",
    "    twist.angular.z = vw \n",
    "    base_vel_pub.publish(twist)\n",
    "\n",
    "def move_base(x,y,yaw,timeout=5):\n",
    "    start_time = rospy.Time.now().to_sec()\n",
    "    while rospy.Time.now().to_sec() - start_time < timeout:  \n",
    "        move_base_vel(x, y, yaw)\n",
    "    move_base_vel(0,0, 0)"
   ]
  },
  {
   "cell_type": "code",
   "execution_count": null,
   "metadata": {},
   "outputs": [],
   "source": []
  },
  {
   "cell_type": "code",
   "execution_count": null,
   "metadata": {
    "id": "-6913Nhy5lZA"
   },
   "outputs": [],
   "source": [
    "from sensor_msgs.msg import LaserScan\n",
    "\n",
    "class Laser():\n",
    "    u\"\"\"Class that handles laser information\"\"\"\n",
    "\n",
    "    def __init__(self):\n",
    "        # Register the _laser_cb method as a callback to the laser scan topic events\n",
    "        self._laser_sub = rospy.Subscriber ('scan',\n",
    "                                           LaserScan, self._laser_cb)\n",
    "        self._scan_data = None\n",
    "\n",
    "    def _laser_cb (self, msg):\n",
    "        # Laser scan callback function\n",
    "        self._scan_data = msg\n",
    "\n",
    "    def get_data(self):\n",
    "        u\"\"\"Function to get the laser value\"\"\"\n",
    "        return self._scan_data"
   ]
  },
  {
   "cell_type": "code",
   "execution_count": null,
   "metadata": {
    "id": "4BXtgJqK5lZB"
   },
   "outputs": [],
   "source": [
    "laser = Laser()  #instanciamos una clase "
   ]
  },
  {
   "cell_type": "code",
   "execution_count": null,
   "metadata": {},
   "outputs": [],
   "source": [
    "xyz=get_coords()"
   ]
  },
  {
   "cell_type": "code",
   "execution_count": null,
   "metadata": {},
   "outputs": [],
   "source": []
  },
  {
   "cell_type": "code",
   "execution_count": null,
   "metadata": {},
   "outputs": [],
   "source": [
    "\"\"\"local_path=rospy.wait_for_message('/move_base/DWAPlannerROS/local_plan',Path)\n",
    "global_path=rospy.wait_for_message('/move_base/DWAPlannerROS/global_plan',Path)\"\"\""
   ]
  },
  {
   "cell_type": "code",
   "execution_count": null,
   "metadata": {},
   "outputs": [],
   "source": [
    "global_path.header"
   ]
  },
  {
   "cell_type": "code",
   "execution_count": null,
   "metadata": {},
   "outputs": [],
   "source": [
    "len(global_path.poses)\n",
    "path= global_path\n"
   ]
  },
  {
   "cell_type": "code",
   "execution_count": null,
   "metadata": {},
   "outputs": [],
   "source": [
    "pub_path.publish(path)"
   ]
  }
 ],
 "metadata": {
  "colab": {
   "collapsed_sections": [
    "B1jN0hJ5QQVf",
    "AIior_xSQQVf"
   ],
   "provenance": []
  },
  "kernelspec": {
   "display_name": "Python 3 (ipykernel)",
   "language": "python",
   "name": "python3"
  },
  "language_info": {
   "codemirror_mode": {
    "name": "ipython",
    "version": 3
   },
   "file_extension": ".py",
   "mimetype": "text/x-python",
   "name": "python",
   "nbconvert_exporter": "python",
   "pygments_lexer": "ipython3",
   "version": "3.8.10"
  },
  "nbTranslate": {
   "displayLangs": [
    "ja",
    "en"
   ],
   "hotkey": "alt-t",
   "langInMainMenu": true,
   "sourceLang": "ja",
   "targetLang": "en",
   "useGoogleTranslate": true
  },
  "toc": {
   "base_numbering": 1,
   "nav_menu": {},
   "number_sections": true,
   "sideBar": true,
   "skip_h1_title": false,
   "title_cell": "Table of Contents",
   "title_sidebar": "Contents",
   "toc_cell": false,
   "toc_position": {},
   "toc_section_display": true,
   "toc_window_display": true
  }
 },
 "nbformat": 4,
 "nbformat_minor": 1
}
