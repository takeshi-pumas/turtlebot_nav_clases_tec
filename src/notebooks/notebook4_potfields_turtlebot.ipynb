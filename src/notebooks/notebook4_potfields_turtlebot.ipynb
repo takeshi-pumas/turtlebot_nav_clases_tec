{
 "cells": [
  {
   "cell_type": "markdown",
   "metadata": {
    "id": "G-effaRbQQVR",
    "lang": "ja"
   },
   "source": []
  },
  {
   "cell_type": "markdown",
   "metadata": {
    "id": "SkYzVnYvQQVU"
   },
   "source": [
    "ITESM CCM\n",
    "Oscar Fuentes\n",
    "\n",
    "\n",
    "Para correr este notebook debe tenerse familiaridad con términos de ROS como tópicos, listeners, publishers, mensajes etc.\n"
   ]
  },
  {
   "cell_type": "code",
   "execution_count": null,
   "metadata": {
    "id": "537iglBRQQVV"
   },
   "outputs": [],
   "source": []
  },
  {
   "cell_type": "code",
   "execution_count": 17,
   "metadata": {
    "colab": {
     "base_uri": "https://localhost:8080/",
     "height": 376
    },
    "executionInfo": {
     "elapsed": 349,
     "status": "error",
     "timestamp": 1660844996566,
     "user": {
      "displayName": "Valeria Calle",
      "userId": "14932664033283499409"
     },
     "user_tz": 300
    },
    "id": "7rqs0esnQQVW",
    "outputId": "bd956da9-2b99-4b8b-f63f-1579a6dda252"
   },
   "outputs": [],
   "source": [
    "import math\n",
    "import numpy as np\n",
    "import rospy\n",
    "import time\n",
    "from sensor_msgs.msg import LaserScan\n",
    "\n",
    "from geometry_msgs.msg import Twist\n"
   ]
  },
  {
   "cell_type": "markdown",
   "metadata": {
    "id": "afPDztMgQQVW"
   },
   "source": []
  },
  {
   "cell_type": "code",
   "execution_count": null,
   "metadata": {
    "id": "aZBg-rpqQQVX"
   },
   "outputs": [],
   "source": [
    "\n",
    "\n"
   ]
  },
  {
   "cell_type": "code",
   "execution_count": null,
   "metadata": {
    "id": "26rXLbPdQQVY"
   },
   "outputs": [],
   "source": []
  },
  {
   "cell_type": "code",
   "execution_count": null,
   "metadata": {
    "id": "QOvwWN4AQQVZ"
   },
   "outputs": [],
   "source": []
  },
  {
   "cell_type": "code",
   "execution_count": null,
   "metadata": {
    "id": "xWDuy-EzQQVZ"
   },
   "outputs": [],
   "source": []
  },
  {
   "cell_type": "code",
   "execution_count": 19,
   "metadata": {
    "id": "JYHLUK94QQVa"
   },
   "outputs": [
    {
     "name": "stderr",
     "output_type": "stream",
     "text": [
      "/tmp/ipykernel_36669/2799142061.py:3: SyntaxWarning: The publisher should be created with an explicit keyword argument 'queue_size'. Please see http://wiki.ros.org/rospy/Overview/Publishers%20and%20Subscribers for more information.\n",
      "  base_vel_pub = rospy.Publisher('/cmd_vel', Twist)\n"
     ]
    }
   ],
   "source": [
    "rospy.init_node('evasion_notebook_node') \n",
    "\n",
    "base_vel_pub = rospy.Publisher('/cmd_vel', Twist)"
   ]
  },
  {
   "cell_type": "markdown",
   "metadata": {
    "id": "xd2pCj-mQQVa"
   },
   "source": [
    "Nos valdremos de nuestra vieja función de movimiento, asi como la clase Laser para obtener las lecturas del sensor (revisar notebook 1)"
   ]
  },
  {
   "cell_type": "markdown",
   "metadata": {
    "id": "wchvCbAaQQVa"
   },
   "source": [
    "Simultáneamente , es publicado en el tópico \"/hsrb/head_rgbd_sensor/depth_registered/rectified_points\"\n",
    ", información de la nube de puntos, en forma de un mensaje tipo  PointCloud2"
   ]
  },
  {
   "cell_type": "code",
   "execution_count": 20,
   "metadata": {
    "id": "cqJfkquIQQVa"
   },
   "outputs": [],
   "source": [
    "\n",
    "def move_base_vel(vx, vy, vw):\n",
    "    twist = Twist()\n",
    "    twist.linear.x = vx\n",
    "    twist.linear.y = vy\n",
    "    twist.angular.z = vw \n",
    "    base_vel_pub.publish(twist)\n",
    "\n",
    "def move_base(x,y,yaw,timeout=5):\n",
    "    start_time = rospy.Time.now().to_sec()\n",
    "    while rospy.Time.now().to_sec() - start_time < timeout:  \n",
    "        move_base_vel(x, y, yaw)\n",
    "    move_base_vel(0,0, 0)"
   ]
  },
  {
   "cell_type": "code",
   "execution_count": 21,
   "metadata": {},
   "outputs": [],
   "source": [
    "move_base(1,0,0,1 )"
   ]
  },
  {
   "cell_type": "code",
   "execution_count": 22,
   "metadata": {},
   "outputs": [],
   "source": [
    "move_base(0,0,1.57,1)"
   ]
  },
  {
   "cell_type": "markdown",
   "metadata": {},
   "source": [
    "# ODOM"
   ]
  },
  {
   "cell_type": "code",
   "execution_count": 23,
   "metadata": {},
   "outputs": [],
   "source": [
    "import tf\n",
    "def newOdom (msg):\n",
    "    global x\n",
    "    global y\n",
    "    global th\n",
    "    \n",
    "    x=msg.pose.pose.position.x\n",
    "    y=msg.pose.pose.position.y\n",
    "    quaternion = (\n",
    "    msg.pose.pose.orientation.x,\n",
    "    msg.pose.pose.orientation.y,\n",
    "    msg.pose.pose.orientation.z,\n",
    "    msg.pose.pose.orientation.w)\n",
    "    euler = tf.transformations.euler_from_quaternion(quaternion)\n",
    "    th=euler[2]\n"
   ]
  },
  {
   "cell_type": "code",
   "execution_count": 24,
   "metadata": {},
   "outputs": [],
   "source": [
    "#READ CLICK POINT\n",
    "from geometry_msgs.msg import PointStamped\n",
    "def readPoint(punto):\n",
    "     global xcl , ycl\n",
    "     \n",
    "     xcl =punto.point.x\n",
    "     ycl =punto.point.y"
   ]
  },
  {
   "cell_type": "code",
   "execution_count": 25,
   "metadata": {},
   "outputs": [
    {
     "ename": "NameError",
     "evalue": "name 'xcl' is not defined",
     "output_type": "error",
     "traceback": [
      "\u001b[0;31m---------------------------------------------------------------------------\u001b[0m",
      "\u001b[0;31mNameError\u001b[0m                                 Traceback (most recent call last)",
      "Cell \u001b[0;32mIn[25], line 1\u001b[0m\n\u001b[0;32m----> 1\u001b[0m \u001b[43mxcl\u001b[49m,ycl\n",
      "\u001b[0;31mNameError\u001b[0m: name 'xcl' is not defined"
     ]
    }
   ],
   "source": [
    "xcl,ycl"
   ]
  },
  {
   "cell_type": "code",
   "execution_count": 26,
   "metadata": {},
   "outputs": [],
   "source": [
    "from nav_msgs.msg import Odometry\n",
    "\n",
    "sub= rospy.Subscriber(\"/odom\",Odometry,newOdom)\n"
   ]
  },
  {
   "cell_type": "code",
   "execution_count": 27,
   "metadata": {},
   "outputs": [],
   "source": [
    "pub = rospy.Publisher('/cmd_vel', Twist, queue_size=1)"
   ]
  },
  {
   "cell_type": "code",
   "execution_count": null,
   "metadata": {},
   "outputs": [],
   "source": []
  },
  {
   "cell_type": "code",
   "execution_count": 28,
   "metadata": {},
   "outputs": [],
   "source": [
    "from sensor_msgs.msg import LaserScan\n",
    "\n",
    "class Laser():\n",
    "    u\"\"\"Class that handles laser information\"\"\"\n",
    "\n",
    "    def __init__(self):\n",
    "        # Register the _laser_cb method as a callback to the laser scan topic events\n",
    "        self._laser_sub = rospy.Subscriber ('scan',\n",
    "                                           LaserScan, self._laser_cb)\n",
    "        self._scan_data = None\n",
    "\n",
    "    def _laser_cb (self, msg):\n",
    "        # Laser scan callback function\n",
    "        self._scan_data = msg\n",
    "\n",
    "    def get_data(self):\n",
    "        u\"\"\"Function to get the laser value\"\"\"\n",
    "        return self._scan_data"
   ]
  },
  {
   "cell_type": "code",
   "execution_count": 29,
   "metadata": {},
   "outputs": [],
   "source": [
    "sub3=rospy.Subscriber(\"/clicked_point\",PointStamped,readPoint)\n"
   ]
  },
  {
   "cell_type": "code",
   "execution_count": 30,
   "metadata": {},
   "outputs": [
    {
     "ename": "NameError",
     "evalue": "name 'xcl' is not defined",
     "output_type": "error",
     "traceback": [
      "\u001b[0;31m---------------------------------------------------------------------------\u001b[0m",
      "\u001b[0;31mNameError\u001b[0m                                 Traceback (most recent call last)",
      "Cell \u001b[0;32mIn[30], line 1\u001b[0m\n\u001b[0;32m----> 1\u001b[0m \u001b[43mxcl\u001b[49m,ycl\n",
      "\u001b[0;31mNameError\u001b[0m: name 'xcl' is not defined"
     ]
    }
   ],
   "source": [
    "xcl,ycl"
   ]
  },
  {
   "cell_type": "markdown",
   "metadata": {},
   "source": [
    "# POTFIELDS"
   ]
  },
  {
   "cell_type": "code",
   "execution_count": 25,
   "metadata": {},
   "outputs": [],
   "source": [
    "laser= Laser()"
   ]
  },
  {
   "cell_type": "code",
   "execution_count": 26,
   "metadata": {},
   "outputs": [],
   "source": [
    "data=laser.get_data()\n",
    "lec=np.asarray(data.ranges)\n",
    "lec[np.isinf(lec)]=3.5\n"
   ]
  },
  {
   "cell_type": "code",
   "execution_count": 27,
   "metadata": {},
   "outputs": [],
   "source": [
    "deltaang=   ( data.angle_max-data.angle_min  )   /len(data.ranges)"
   ]
  },
  {
   "cell_type": "code",
   "execution_count": 28,
   "metadata": {},
   "outputs": [
    {
     "data": {
      "text/plain": [
       "0.01745330492655436"
      ]
     },
     "execution_count": 28,
     "metadata": {},
     "output_type": "execute_result"
    }
   ],
   "source": [
    "deltaang"
   ]
  },
  {
   "cell_type": "code",
   "execution_count": 29,
   "metadata": {},
   "outputs": [],
   "source": [
    "laserdegs=  np.arange(data.angle_min,data.angle_max,deltaang)"
   ]
  },
  {
   "cell_type": "code",
   "execution_count": 30,
   "metadata": {},
   "outputs": [],
   "source": [
    "Fx=0\n",
    "Fy = 0.001\n",
    "for i,deg in enumerate(laserdegs):\n",
    "    if i >=360:break \n",
    "    \n",
    "    if (lec[i] <2.61):\n",
    "        Fx = Fx + (1/lec[i])**2 * np.cos(deg)\n",
    "        Fy = Fy + (1/lec[i])**2 * np.sin(deg)\n",
    "         "
   ]
  },
  {
   "cell_type": "code",
   "execution_count": 31,
   "metadata": {},
   "outputs": [
    {
     "name": "stdout",
     "output_type": "stream",
     "text": [
      "FxFyFth 1.3455555897885783 -65.91176367147114 91.16950214955668\n"
     ]
    }
   ],
   "source": [
    "Fth= np.arctan2(Fy,Fx)+np.pi\n",
    "print('FxFyFth',Fx,Fy,Fth*180/np.pi)\n",
    "Fmag= np.linalg.norm((Fx,Fy))"
   ]
  },
  {
   "cell_type": "code",
   "execution_count": null,
   "metadata": {},
   "outputs": [],
   "source": []
  },
  {
   "cell_type": "code",
   "execution_count": 32,
   "metadata": {},
   "outputs": [
    {
     "name": "stdout",
     "output_type": "stream",
     "text": [
      "xclick,yclick 2.4025940895080566 0.5606367588043213 euclD 4.322695295088308\n"
     ]
    }
   ],
   "source": [
    "xy,xycl=np.array((x,y)) ,   np.array((xcl,ycl))\n",
    "euclD=np.linalg.norm(xy-xycl)\n",
    "#print(\"xrob,yrob, throbot\",x,y,th*180/3.1416)\n",
    "print(\"xclick,yclick\",xcl,ycl,\"euclD\",euclD)\n",
    "\n"
   ]
  },
  {
   "cell_type": "code",
   "execution_count": 33,
   "metadata": {},
   "outputs": [
    {
     "name": "stdout",
     "output_type": "stream",
     "text": [
      "Fatx, Fatry, Fatrth 0.9961822196833766 -0.08729941872087707 -12.062393633010787\n"
     ]
    }
   ],
   "source": [
    "Fatrx =( -x + xcl)/euclD\n",
    "Fatry =( -y + ycl)/euclD      \n",
    "Fatrth=np.arctan2(Fatry, Fatrx) \n",
    "Fatrth=Fatrth-th\n",
    "Fmagat= np.linalg.norm((Fatrx,Fatry))\n",
    "print ('Fatx, Fatry, Fatrth',Fatrx,Fatry,(Fatrth)*180/np.pi )"
   ]
  },
  {
   "cell_type": "code",
   "execution_count": 34,
   "metadata": {},
   "outputs": [],
   "source": [
    "Ftotx= Fmag*np.cos(Fth)*.00251   +    Fmagat*np.cos(Fatrth)\n",
    "Ftoty= Fmag*np.sin(Fth)*.00251    +    Fmagat*np.sin(Fatrth)\n",
    "Ftotth=np.arctan2(Ftoty,Ftotx)\n",
    "##################################################################\n",
    "if ( Ftotth> np.pi ):Ftotth=       -np.pi-    (Ftotth-np.pi)\n",
    "if (Ftotth < -np.pi):Ftotth= (Ftotth     +2 *np.pi)\n"
   ]
  },
  {
   "cell_type": "code",
   "execution_count": 35,
   "metadata": {},
   "outputs": [
    {
     "name": "stdout",
     "output_type": "stream",
     "text": [
      "Ftotxy 0.9745433651953691 -0.043538239385566696 -2.5580182540453236\n"
     ]
    }
   ],
   "source": [
    "print('Ftotxy',Ftotx,Ftoty,Ftotth*180/np.pi)\n"
   ]
  },
  {
   "cell_type": "code",
   "execution_count": 36,
   "metadata": {},
   "outputs": [
    {
     "name": "stdout",
     "output_type": "stream",
     "text": [
      "lin\n"
     ]
    }
   ],
   "source": [
    "speed=Twist()\n",
    "vel=0.4\n",
    "if( abs(Ftotth) < .15) :#or (np.linalg.norm((Fx,Fy)) < 100):\n",
    "     speed.linear.x=1.9\n",
    "     print('lin')\n",
    "     speed.angular.z=0\n",
    "else:\n",
    "         \n",
    "        if Ftotth < 0:\n",
    "            if (abs( Ftotth ) < np.pi/2):\n",
    "                vel=.24\n",
    "                speed.angular.z=-0.25\n",
    "                print('open curve')\n",
    "         \n",
    "            print('Vang-')\n",
    "            speed.linear.x=vel\n",
    "            speed.angular.z=-0.25\n",
    "        if Ftotth > 0:\n",
    "            if (abs( Ftotth ) < np.pi/2):\n",
    "                vel=.24\n",
    "                print('open curve')\n",
    "         \n",
    "            \n",
    "            print('Vang+')\n",
    "            speed.linear.x=vel\n",
    "            speed.angular.z=.25"
   ]
  },
  {
   "cell_type": "code",
   "execution_count": 37,
   "metadata": {},
   "outputs": [],
   "source": [
    "def get_Rep_Force():\n",
    "    data=laser.get_data()\n",
    "    lec=np.asarray(data.ranges)\n",
    "    lec[np.isinf(lec)]=13.5\n",
    "    deltaang=   ( data.angle_max-data.angle_min  )   /len(data.ranges)\n",
    "    laserdegs=  np.arange(data.angle_min,data.angle_max,deltaang)\n",
    "    Fx=  0.0\n",
    "    Fy = 0.0\n",
    "    for i,deg in enumerate(laserdegs):\n",
    "        if i >=360:break \n",
    "\n",
    "        if (lec[i] <4.75): ###TUNABLE\n",
    "            Fx = Fx + (1/lec[i])**2 * np.cos(deg)\n",
    "            Fy = Fy + (1/lec[i])**2 * np.sin(deg)\n",
    "    Fth= np.arctan2(Fy,(Fx))+np.pi\n",
    "    #print('FxFyFth',Fx,Fy,Fth*180/np.pi)\n",
    "    Fmag= np.linalg.norm((Fx,Fy))\n",
    "    return Fx,Fy,Fmag,Fth\n",
    "    "
   ]
  },
  {
   "cell_type": "code",
   "execution_count": 38,
   "metadata": {},
   "outputs": [],
   "source": [
    "def get_Att_Force():\n",
    "    xy,xycl=np.array((x,y)) ,   np.array((xcl,ycl))\n",
    "    euclD=np.linalg.norm(xy-xycl)\n",
    "    #print(\"xrob,yrob, throbot\",x,y,th*180/3.1416)\n",
    "    #print(\"xclick,yclick\",xcl,ycl,\"euclD\",euclD)\n",
    "\n",
    "    Fatrx =( -x + xcl)/euclD\n",
    "    Fatry =( -y + ycl)/euclD      \n",
    "    Fatrth=np.arctan2(Fatry, Fatrx) \n",
    "    Fatrth=Fatrth-th\n",
    "    Fmagat= np.linalg.norm((Fatrx,Fatry))\n",
    "    #print ('Fatx, Fatry, Fatrth',Fatrx,Fatry,(Fatrth)*180/np.pi )\n",
    "    return  Fatrx, Fatry , Fmagat, Fatrth, euclD"
   ]
  },
  {
   "cell_type": "code",
   "execution_count": 39,
   "metadata": {},
   "outputs": [],
   "source": [
    "def get_Speed(Ftotx,Ftoty,Ftotth):\n",
    "    speed=Twist()\n",
    "    if( abs(Ftotth) < .1) :\n",
    "        \n",
    "        speed.linear.x=0.13\n",
    "        #print('lin')\n",
    "        speed.angular.z=0\n",
    "\n",
    "    else:\n",
    "        \n",
    "        if Ftotth < 0:                            \n",
    "                if (abs( Ftotth ) < np.pi/2):\n",
    "                    speed.linear.x= 0.025\n",
    "                    speed.angular.z=-0.25\n",
    "                    #print('open curve')\n",
    "                \n",
    "                else:                    \n",
    "                    #print('Vang-')\n",
    "                    speed.linear.x=  0.0\n",
    "                    speed.angular.z=-0.5\n",
    "                        \n",
    "        if Ftotth > 0:\n",
    "                if (abs( Ftotth ) < np.pi/2):\n",
    "                    speed.linear.x= 0.05\n",
    "                    speed.angular.z=.25\n",
    "                    #print('open curve')\n",
    "                \n",
    "                else:\n",
    "                    #print('Vang+')\n",
    "                    speed.linear.x=  0.0\n",
    "                    speed.angular.z= 0.5\n",
    "    return speed"
   ]
  },
  {
   "cell_type": "code",
   "execution_count": null,
   "metadata": {},
   "outputs": [],
   "source": []
  },
  {
   "cell_type": "code",
   "execution_count": 40,
   "metadata": {},
   "outputs": [
    {
     "data": {
      "text/plain": [
       "linear: \n",
       "  x: 0.13\n",
       "  y: 0.0\n",
       "  z: 0.0\n",
       "angular: \n",
       "  x: 0.0\n",
       "  y: 0.0\n",
       "  z: 0"
      ]
     },
     "execution_count": 40,
     "metadata": {},
     "output_type": "execute_result"
    }
   ],
   "source": [
    "get_Speed(Ftotx,Ftoty,Ftotth)"
   ]
  },
  {
   "cell_type": "code",
   "execution_count": null,
   "metadata": {},
   "outputs": [],
   "source": [
    "rate = rospy.Rate(10)\n",
    "counter=0\n",
    "while not rospy.is_shutdown():\n",
    "        counter+=1\n",
    "        Fx,Fy,Fmag,Fth          =get_Rep_Force()\n",
    "        Fatx,Faty,Fmagat,Fatrth, euclD =get_Att_Force()\n",
    "        #######TUNABLE\n",
    "        Ftotx= Fmag*np.cos(Fth)*.004   +    Fmagat*np.cos(Fatrth)\n",
    "        Ftoty= Fmag*np.sin(Fth)*.004    +    Fmagat*np.sin(Fatrth)\n",
    "        Ftotth=np.arctan2(Ftoty,Ftotx)\n",
    "        ###ANGLE NORMALIZATION\n",
    "        if ( Ftotth> np.pi ):     Ftotth=       -np.pi-    (Ftotth-np.pi)\n",
    "        if (Ftotth < -np.pi): Ftotth= (Ftotth     +2 *np.pi)\n",
    "        if counter==1000000:\n",
    "            print('Ftotxy',Ftotx,Ftoty,Ftotth*180/np.pi, 'eulcD', euclD)\n",
    "            counter=0\n",
    "        ####\n",
    "        speed=get_Speed(Ftotx,Ftoty,Ftotth)\n",
    "        #if eculD < 2: speed.linear.x=0.2\n",
    "        #if eculD < 0.5: \n",
    "            #speed.linear.x=0 \n",
    "            #print(\"im here\", euclD,(eculD < 0.5))\n",
    "            #rospy.sleep(1)\n",
    "            #break\n",
    "        pub.publish(speed)\n",
    "        rate.sleep()"
   ]
  },
  {
   "cell_type": "code",
   "execution_count": null,
   "metadata": {},
   "outputs": [],
   "source": [
    "# ENTREGAR"
   ]
  },
  {
   "cell_type": "markdown",
   "metadata": {},
   "source": [
    "# TAREA POR EQUIPOS"
   ]
  },
  {
   "cell_type": "markdown",
   "metadata": {},
   "source": [
    "# Programar al menos 3 conductas para el turltebot. \n",
    "# UTILIZAR MAQUINAS DE ESTADOS  y SMACH\n",
    " \n",
    " ## 1.   De ellas será  una evasión de obstáculos modificada de la tarea 1 para esta vez \"rodear\" el obstáculo\n",
    " (I.A. Clásica)\n",
    " \n",
    " ## 2.  Implemente navegación reactiva utilizando campos potenciales y SLAM\n",
    " (Completamente Reactivo).\n",
    " \n",
    " ## 3.  Implemente un \"árbtiro\" que sea capaz de detectar que el agente se encuentra en un mínimo local y repcuperar la movilidad.(Híbrido)\n",
    " \n",
    " ## 4. Utililzando tf2_ros  Obtenga un estimado de las coordenadas más \"seguras\".\n",
    " ### se sabe que las patas de las  mesas un son punto particularmente peligroso...\n",
    " \n",
    " Publique una transformada (tf ) en posiciones cuyas lecturas de lidar permiten suponer la presencia de una mesa o silla ... patas .\n",
    " \n",
    " \n",
    " \n",
    " \n",
    " \n",
    " \n",
    " "
   ]
  },
  {
   "cell_type": "markdown",
   "metadata": {},
   "source": [
    "# Obtener la ubicación del agente en el mapa... MAPAS SLAM:... "
   ]
  },
  {
   "cell_type": "code",
   "execution_count": null,
   "metadata": {},
   "outputs": [],
   "source": [
    "import tf2_ros\n",
    "tfBuffer = tf2_ros.Buffer()\n",
    "listener = tf2_ros.TransformListener(tfBuffer)\n",
    "def get_coords ():\n",
    "    trans = tfBuffer.lookup_transform('map', 'base_link', rospy.Time())\n",
    "    return trans\n"
   ]
  },
  {
   "cell_type": "code",
   "execution_count": null,
   "metadata": {},
   "outputs": [],
   "source": [
    "t=get_coords()\n",
    "type (t)"
   ]
  },
  {
   "cell_type": "code",
   "execution_count": null,
   "metadata": {},
   "outputs": [],
   "source": [
    "broadcaster = tf2_ros.StaticTransformBroadcaster()"
   ]
  },
  {
   "cell_type": "code",
   "execution_count": null,
   "metadata": {},
   "outputs": [],
   "source": [
    "t.child_frame_id='here'"
   ]
  },
  {
   "cell_type": "code",
   "execution_count": null,
   "metadata": {},
   "outputs": [],
   "source": [
    "broadcaster = tf2_ros.StaticTransformBroadcaster()\n"
   ]
  },
  {
   "cell_type": "code",
   "execution_count": null,
   "metadata": {},
   "outputs": [],
   "source": [
    "broadcaster.sendTransform(t)"
   ]
  },
  {
   "cell_type": "code",
   "execution_count": null,
   "metadata": {},
   "outputs": [],
   "source": []
  }
 ],
 "metadata": {
  "colab": {
   "collapsed_sections": [
    "B1jN0hJ5QQVf",
    "AIior_xSQQVf"
   ],
   "provenance": []
  },
  "kernelspec": {
   "display_name": "Python 3 (ipykernel)",
   "language": "python",
   "name": "python3"
  },
  "language_info": {
   "codemirror_mode": {
    "name": "ipython",
    "version": 3
   },
   "file_extension": ".py",
   "mimetype": "text/x-python",
   "name": "python",
   "nbconvert_exporter": "python",
   "pygments_lexer": "ipython3",
   "version": "3.8.10"
  },
  "nbTranslate": {
   "displayLangs": [
    "ja",
    "en"
   ],
   "hotkey": "alt-t",
   "langInMainMenu": true,
   "sourceLang": "ja",
   "targetLang": "en",
   "useGoogleTranslate": true
  },
  "toc": {
   "base_numbering": 1,
   "nav_menu": {},
   "number_sections": true,
   "sideBar": true,
   "skip_h1_title": false,
   "title_cell": "Table of Contents",
   "title_sidebar": "Contents",
   "toc_cell": false,
   "toc_position": {},
   "toc_section_display": true,
   "toc_window_display": true
  }
 },
 "nbformat": 4,
 "nbformat_minor": 1
}
