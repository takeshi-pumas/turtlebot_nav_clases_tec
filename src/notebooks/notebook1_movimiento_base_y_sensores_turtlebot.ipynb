{
 "cells": [
  {
   "cell_type": "markdown",
   "id": "240e7ddf",
   "metadata": {
    "id": "K8-Vd80mFqy_",
    "lang": "ja"
   },
   "source": [
    "Notebooks adaptados y traducidos a partir de los tutoriales de código abierto \n",
    "utilizados en las competencias virtuales de los últimos 2 años\n",
    "Yamamoto, T., Terada, K., Ochiai, A. et al. Development of Human Support Robot as the research platform of a domestic mobile manipulator. Robomech J 6, 4 (2019). https://doi.org/10.1186/s40648-019-0132-3\n",
    "\n",
    "Por favor Consulte los originales en inglés y Japonés en https://github.com/hsr-project/hsrb_robocup_dspl_docker\n"
   ]
  },
  {
   "cell_type": "markdown",
   "id": "e8eaec9e",
   "metadata": {
    "id": "lyZ_MFCvFqzB"
   },
   "source": [
    "Adaptado al español por Laboratorio BioRobótica UNAM\n",
    "Oscar Fuentes\n"
   ]
  },
  {
   "cell_type": "markdown",
   "id": "101cafb9",
   "metadata": {
    "id": "UJgGKZlrFqzD",
    "lang": "en"
   },
   "source": [
    "Para correr este notebook debe tenerse familiaridad con términos de ROS como tópicos, listeners, publishers, mensajes etc.\n"
   ]
  },
  {
   "cell_type": "markdown",
   "id": "d4ff4e97",
   "metadata": {
    "id": "Qqbva5-vFqzE"
   },
   "source": [
    "# ROS NOETIC UBUNTU 18 PYTHON3 \n",
    "\n",
    "# TEC"
   ]
  },
  {
   "cell_type": "code",
   "execution_count": 1,
   "id": "305cda62",
   "metadata": {
    "colab": {
     "base_uri": "https://localhost:8080/",
     "height": 376
    },
    "executionInfo": {
     "elapsed": 433,
     "status": "error",
     "timestamp": 1660729358066,
     "user": {
      "displayName": "Juan Diego Zumba Arichavala",
      "userId": "00194564589808201836"
     },
     "user_tz": 300
    },
    "id": "3I8GrZLsFqzG",
    "outputId": "64e01b2a-bae6-4057-ca14-4ba4e525b634"
   },
   "outputs": [],
   "source": [
    "import rospy\n",
    "from std_msgs.msg import String\n",
    "import time\n",
    "import numpy as np\n",
    "from geometry_msgs.msg import Twist\n"
   ]
  },
  {
   "cell_type": "markdown",
   "id": "e287add9",
   "metadata": {
    "id": "zK_oMDvsFqzH"
   },
   "source": [
    "Importamos Librerías pertinentes para el control de la base del robot. \n",
    "Trabajamos a un alto nivel, es decir, confíamos que \"under the hood\" existe un control \n",
    "que permite traducir velocidades en señales de control"
   ]
  },
  {
   "cell_type": "markdown",
   "id": "3dee454f",
   "metadata": {
    "id": "TrDIkDzKFqzH"
   },
   "source": [
    "Atención especial al mensaje tipo Twist.\n",
    "Un mensaje standar de ros dentro del paquete de mensajes geometry _msgs"
   ]
  },
  {
   "cell_type": "code",
   "execution_count": 2,
   "id": "187f3f69",
   "metadata": {
    "colab": {
     "base_uri": "https://localhost:8080/"
    },
    "executionInfo": {
     "elapsed": 60,
     "status": "ok",
     "timestamp": 1660505319438,
     "user": {
      "displayName": "Salvador García Hérnandez",
      "userId": "10122065872909803555"
     },
     "user_tz": 300
    },
    "id": "REe414XYFqzI",
    "outputId": "2f3e3fa4-47de-4ed7-cda7-ec1d8e6614ec"
   },
   "outputs": [
    {
     "name": "stdout",
     "output_type": "stream",
     "text": [
      "geometry_msgs/Vector3 linear\r\n",
      "  float64 x\r\n",
      "  float64 y\r\n",
      "  float64 z\r\n",
      "geometry_msgs/Vector3 angular\r\n",
      "  float64 x\r\n",
      "  float64 y\r\n",
      "  float64 z\r\n",
      "\r\n"
     ]
    }
   ],
   "source": [
    "! rosmsg info geometry_msgs/Twist"
   ]
  },
  {
   "cell_type": "markdown",
   "id": "a8133ad1",
   "metadata": {
    "id": "NQeCF1N9FqzJ"
   },
   "source": [
    "el mensaje consta de 2 vectores de 3 dimensiones, uno llamado angular y y otro llamado linear"
   ]
  },
  {
   "cell_type": "code",
   "execution_count": 3,
   "id": "0ed3bf2d",
   "metadata": {
    "colab": {
     "base_uri": "https://localhost:8080/",
     "height": 202
    },
    "executionInfo": {
     "elapsed": 554,
     "status": "error",
     "timestamp": 1660505319954,
     "user": {
      "displayName": "Salvador García Hérnandez",
      "userId": "10122065872909803555"
     },
     "user_tz": 300
    },
    "id": "wTYjOsmWFqzL",
    "outputId": "d35bd0e7-5667-4480-d38a-e767b77361ed"
   },
   "outputs": [],
   "source": [
    "rospy.init_node('base_and_sensor')    ### Conectamos/creamos un nodo llamado base and sensor \n",
    "#base_vel_pub = rospy.Publisher('/hsrb/command_velocity', Twist, queue_size=10)## Declaramos un publisher que ha \n",
    "base_vel_pub = rospy.Publisher('/cmd_vel', Twist, queue_size=1)## Declaramos un publisher que ha \n",
    "###de enviar mensajes tipo Twist al topico hsrb/command_velocity\n"
   ]
  },
  {
   "cell_type": "code",
   "execution_count": 4,
   "id": "2af8997a",
   "metadata": {
    "id": "Nmz-Jd3QFqzM"
   },
   "outputs": [],
   "source": [
    "\n",
    "def move_base_vel(vx, vy, vw):\n",
    "    twist = Twist()\n",
    "    twist.linear.x = vx\n",
    "    twist.linear.y = vy\n",
    "    twist.angular.z = vw \n",
    "    base_vel_pub.publish(twist)"
   ]
  },
  {
   "cell_type": "markdown",
   "id": "bbcf0538",
   "metadata": {
    "id": "K5hPsOpUFqzN",
    "lang": "en"
   },
   "source": [
    "Observe en el simulador y en RVIZ  al ingresar estos comandos"
   ]
  },
  {
   "cell_type": "code",
   "execution_count": 5,
   "id": "03494748",
   "metadata": {
    "id": "ikOqlsc-FqzO"
   },
   "outputs": [],
   "source": [
    "move_base_vel(0.5, 0.0, 0)"
   ]
  },
  {
   "cell_type": "code",
   "execution_count": 6,
   "id": "ba63a4e3",
   "metadata": {},
   "outputs": [],
   "source": [
    "move_base_vel(0.0, 0.0, 0)"
   ]
  },
  {
   "cell_type": "code",
   "execution_count": null,
   "id": "9d7510db",
   "metadata": {
    "id": "QGuRujKRFqzP"
   },
   "outputs": [],
   "source": [
    "twist= Twist()"
   ]
  },
  {
   "cell_type": "code",
   "execution_count": null,
   "id": "0cf78f29",
   "metadata": {
    "id": "PVFcjYJjFqzO"
   },
   "outputs": [],
   "source": [
    "twist.linear.x"
   ]
  },
  {
   "cell_type": "code",
   "execution_count": null,
   "id": "e7617acc",
   "metadata": {
    "id": "YlHaKEjyFqzQ"
   },
   "outputs": [],
   "source": [
    "move_base_vel(0 , 0, np.pi)"
   ]
  },
  {
   "cell_type": "code",
   "execution_count": null,
   "id": "8b3f8320",
   "metadata": {
    "id": "Srt5caY0FqzP"
   },
   "outputs": [],
   "source": [
    "move_base_vel(0.0, 0.0, 0)"
   ]
  },
  {
   "cell_type": "code",
   "execution_count": 7,
   "id": "3a4a5e12",
   "metadata": {
    "id": "usjHJboYFqzQ"
   },
   "outputs": [],
   "source": [
    "move_base_vel(1, 0, np.pi*.25)"
   ]
  },
  {
   "cell_type": "code",
   "execution_count": 8,
   "id": "8b5175e6",
   "metadata": {},
   "outputs": [],
   "source": [
    "move_base_vel(0.0, 0.0, 0)"
   ]
  },
  {
   "cell_type": "markdown",
   "id": "08d7e9de",
   "metadata": {
    "id": "Ft4UNu4wFqzR",
    "lang": "ja"
   },
   "source": [
    "El robot HSR \"Takeshi\" tiene una base omnidireccional"
   ]
  },
  {
   "cell_type": "markdown",
   "id": "fd87d224",
   "metadata": {},
   "source": [
    "El turtlebot tiene una base de tipo \"diferential drive\""
   ]
  },
  {
   "cell_type": "markdown",
   "id": "026afee5",
   "metadata": {
    "id": "8oaXrz_MFqzS"
   },
   "source": [
    "Prepárese para interrumir el KERNEL con el pequeño  botón de STOP ubicado arriba en el notebook"
   ]
  },
  {
   "cell_type": "markdown",
   "id": "580bc556",
   "metadata": {
    "id": "eyLlyjBrFqzS",
    "lang": "en"
   },
   "source": [
    "Oops! The robot bumped into the wall. Press the ■ button above to stop our code.\n"
   ]
  },
  {
   "cell_type": "code",
   "execution_count": null,
   "id": "51aedecb",
   "metadata": {
    "id": "q53usTB3FqzT",
    "scrolled": true
   },
   "outputs": [],
   "source": [
    "#puede mantenerse la velocidad deseada por ejemplo\n",
    "while True:\n",
    "    move_base_vel(1, 0, 0)"
   ]
  },
  {
   "cell_type": "markdown",
   "id": "37a70e42",
   "metadata": {
    "id": "jT9wEqtLFqzT",
    "lang": "en"
   },
   "source": [
    "Ahora vamos a correr por un intervalo de tiempo definido la celda siguiente mantendrá una velocidad de 0.5m/s por 3 segundos:"
   ]
  },
  {
   "cell_type": "code",
   "execution_count": 9,
   "id": "280a3465",
   "metadata": {
    "id": "MkLJt5VEFqzT",
    "lang": "ja"
   },
   "outputs": [],
   "source": [
    "start_time = rospy.Time.now().to_sec()  \n",
    "while rospy.Time.now().to_sec() - start_time < 3: \n",
    "    move_base_vel(-0.25, 0, 0)"
   ]
  },
  {
   "cell_type": "markdown",
   "id": "5451e226",
   "metadata": {
    "id": "weToVHcpFqzU"
   },
   "source": [
    "EJERCICIO EN CLASE"
   ]
  },
  {
   "cell_type": "code",
   "execution_count": 10,
   "id": "2e4efa89",
   "metadata": {
    "id": "Q0joTh5ZFqzU"
   },
   "outputs": [],
   "source": [
    "def move_base(x,y,yaw,timeout=5):\n",
    "    start_time = rospy.Time.now().to_sec()\n",
    "    while rospy.Time.now().to_sec() - start_time < timeout:  \n",
    "        move_base_vel(x, y, yaw)"
   ]
  },
  {
   "cell_type": "markdown",
   "id": "a7ee69fc",
   "metadata": {
    "id": "-uTduBqRFqzU",
    "lang": "ja"
   },
   "source": [
    "TAREA:"
   ]
  },
  {
   "cell_type": "markdown",
   "id": "69d7fa33",
   "metadata": {
    "id": "o0gTQXFaFqzV",
    "lang": "ja"
   },
   "source": [
    "Escriba un pequeño código que permita al robot volver al punto de partida de este tutorial, después de rodear el pequeño rover"
   ]
  },
  {
   "cell_type": "markdown",
   "id": "71a5f3be",
   "metadata": {
    "id": "qXe7tM5qFqzV"
   },
   "source": [
    "Ahondaremos en el uso de tf en ros en sesiones futuras, por ahora utilicemos esta simple función para obtener de forma objetiva la posicionde inicio y final\n"
   ]
  },
  {
   "cell_type": "code",
   "execution_count": 11,
   "id": "4b058ae3",
   "metadata": {
    "colab": {
     "base_uri": "https://localhost:8080/",
     "height": 376
    },
    "executionInfo": {
     "elapsed": 303,
     "status": "error",
     "timestamp": 1661437863972,
     "user": {
      "displayName": "Marco Alan Moreno León",
      "userId": "02218718831627705709"
     },
     "user_tz": 300
    },
    "id": "K_W_vRjaFqzV",
    "outputId": "2cdce5d8-0cc1-45ef-a62f-f4f76c797058"
   },
   "outputs": [],
   "source": [
    "import tf2_ros\n",
    "tfBuffer = tf2_ros.Buffer()\n",
    "listener = tf2_ros.TransformListener(tfBuffer)\n",
    "def get_coords ():\n",
    "    trans = tfBuffer.lookup_transform('map', 'base_link', rospy.Time())\n",
    "    return trans\n"
   ]
  },
  {
   "cell_type": "code",
   "execution_count": 13,
   "id": "99b9f26f",
   "metadata": {},
   "outputs": [
    {
     "data": {
      "text/plain": [
       "header: \n",
       "  seq: 0\n",
       "  stamp: \n",
       "    secs: 629\n",
       "    nsecs: 248000000\n",
       "  frame_id: \"map\"\n",
       "child_frame_id: \"base_link\"\n",
       "transform: \n",
       "  translation: \n",
       "    x: -2.2217774922811833\n",
       "    y: 0.04216461266806304\n",
       "    z: 0.010008685171683665\n",
       "  rotation: \n",
       "    x: -0.0004105444804042401\n",
       "    y: 1.608631443839364e-05\n",
       "    z: 0.029016072096434586\n",
       "    w: 0.9995788606981215"
      ]
     },
     "execution_count": 13,
     "metadata": {},
     "output_type": "execute_result"
    }
   ],
   "source": [
    "coords_start= get_coords()\n",
    "coords_start"
   ]
  },
  {
   "cell_type": "code",
   "execution_count": 14,
   "id": "678dc62f",
   "metadata": {
    "id": "CMZIZtowFqzV"
   },
   "outputs": [
    {
     "name": "stderr",
     "output_type": "stream",
     "text": [
      "Warning: TF_REPEATED_DATA ignoring data with redundant timestamp for frame base_footprint at time 631.242000 according to authority /gazebo\n",
      "         at line 278 in /tmp/binarydeb/ros-noetic-tf2-0.7.6/src/buffer_core.cpp\n"
     ]
    }
   ],
   "source": [
    "coords_start= get_coords()\n",
    "move_base(0,0,.12*np.pi,4)"
   ]
  },
  {
   "cell_type": "code",
   "execution_count": 15,
   "id": "f0e5f8e3",
   "metadata": {
    "id": "tugoWftkFqzW"
   },
   "outputs": [],
   "source": [
    "move_base(0.05,0,0,0.5)\n",
    "move_base(0.3,0,0,0.5)\n",
    "move_base(0.4,0,0,4)"
   ]
  },
  {
   "cell_type": "code",
   "execution_count": null,
   "id": "54eedf6c",
   "metadata": {
    "id": "EkXqovK1FqzW"
   },
   "outputs": [],
   "source": [
    "move_base(0,0,.12*np.pi,4)"
   ]
  },
  {
   "cell_type": "code",
   "execution_count": null,
   "id": "b2605663",
   "metadata": {
    "id": "hZic0x55FqzW"
   },
   "outputs": [],
   "source": [
    "move_base(0.05,0,0,0.5)\n",
    "move_base(0.3,0,0,0.5)\n",
    "move_base(0.4,0,0,0.5)\n",
    "move_base(1,0,0,2.5)"
   ]
  },
  {
   "cell_type": "code",
   "execution_count": null,
   "id": "d8727975",
   "metadata": {
    "id": "EICYTA74FqzX"
   },
   "outputs": [],
   "source": [
    "move_base(0,0,.12*np.pi,4)"
   ]
  },
  {
   "cell_type": "code",
   "execution_count": null,
   "id": "0374fd05",
   "metadata": {
    "id": "CcT-aFd3FqzX"
   },
   "outputs": [],
   "source": [
    "move_base(0.05,0,0,0.5)\n",
    "move_base(0.3,0,0,0.5)\n",
    "move_base(0.4,0,0,0.5)\n",
    "move_base(1,0,0,6)"
   ]
  },
  {
   "cell_type": "code",
   "execution_count": null,
   "id": "7aa658e0",
   "metadata": {
    "id": "cQVUXK4uFqzY"
   },
   "outputs": [],
   "source": [
    "move_base(0,0,.12*np.pi,4)"
   ]
  },
  {
   "cell_type": "code",
   "execution_count": null,
   "id": "c19f5260",
   "metadata": {
    "id": "9770-TF3FqzY"
   },
   "outputs": [],
   "source": [
    "move_base(0.05,0,0,0.5)\n",
    "move_base(0.3,0,0,0.5)\n",
    "move_base(0.4,0,0,0.5)\n",
    "move_base(1,0,0,6)"
   ]
  },
  {
   "cell_type": "code",
   "execution_count": null,
   "id": "92b61601",
   "metadata": {
    "id": "laZ4RgnoFqzY"
   },
   "outputs": [],
   "source": [
    "move_base(0,0,.12*np.pi,4)"
   ]
  },
  {
   "cell_type": "code",
   "execution_count": null,
   "id": "1d38a693",
   "metadata": {
    "id": "xUl5JNUUFqzZ"
   },
   "outputs": [],
   "source": [
    "move_base(0.05,0,0,0.5)\n",
    "move_base(0.3,0,0,0.5)\n",
    "move_base(0.4,0,0,0.5)\n",
    "move_base(1,0,0,6)"
   ]
  },
  {
   "cell_type": "code",
   "execution_count": null,
   "id": "e8e51df5",
   "metadata": {
    "id": "kbuAHkBqFqzZ"
   },
   "outputs": [],
   "source": [
    "coords_end= get_coords()\n",
    "coords_start.transform.translation,coords_end.transform.translation"
   ]
  },
  {
   "cell_type": "code",
   "execution_count": null,
   "id": "42e6950d",
   "metadata": {
    "id": "nrRX7ZqrFqzZ"
   },
   "outputs": [],
   "source": [
    "print(coords_start.transform.translation,coords_end.transform.translation)"
   ]
  },
  {
   "cell_type": "markdown",
   "id": "324aa990",
   "metadata": {
    "id": "bho4HUBMFqza"
   },
   "source": [
    "Sensores:\n",
    "Si bien el HSR cuenta con muchos más sensores, (incluída la versión simulada) , por ahora nos concentramos en 2 sensores concretamente, que permiten extraer mucha información valiosa. \n",
    "\n",
    "Primero  EL LIDAR: Un conjunto de distancias distribuidas en un arco 270grados frente al robot\n",
    "y luego camara rgbd xtion. Que nos da información en una imagen rgb común, y la nube de puntos relacionada. "
   ]
  },
  {
   "cell_type": "markdown",
   "id": "342122dc",
   "metadata": {
    "id": "3V-gIRYqFqza",
    "lang": "en"
   },
   "source": [
    "# Capturing sensor information\n",
    "In the previous section, we controlled the movement of the robot using our prior knowledge about the environment. In this section, we will use sensors to acquire environmental information to move the robot.\n",
    "\n",
    "We can use the following sensors installed in HSR:\n",
    "\n",
    "- Laser scanner: Two-dimensional measurement of distance to obstacles\n",
    "\n",
    "- RGB-D camera: A camera that can measure color information (RGB) + depth information (Depth)\n",
    "\n",
    "- IMU: Measures acceleration, angular acceleration, and magnetic force\n",
    "\n",
    "- Encoders: Measures each joint angle of the robot"
   ]
  },
  {
   "cell_type": "markdown",
   "id": "6b21623b",
   "metadata": {
    "id": "jgdUCCcZFqzb",
    "lang": "ja"
   },
   "source": [
    "## センサ情報の確認方法"
   ]
  },
  {
   "cell_type": "markdown",
   "id": "04b1fb8e",
   "metadata": {
    "id": "4sy9HmMQFqzc",
    "lang": "en"
   },
   "source": [
    "## How to visualize sensor information"
   ]
  },
  {
   "cell_type": "markdown",
   "id": "afab07c5",
   "metadata": {
    "id": "S8TWvQACFqzf"
   },
   "source": [
    "Ejemplo de una clase que permite leer la información (tipo LaserScan) del topico '/scan'"
   ]
  },
  {
   "cell_type": "code",
   "execution_count": 16,
   "id": "d25f187e",
   "metadata": {
    "id": "KsR_iBFEFqzf",
    "lang": "ja"
   },
   "outputs": [],
   "source": [
    "from sensor_msgs.msg import LaserScan\n",
    "\n",
    "class Laser():\n",
    "    u\"\"\"Class that handles laser information\"\"\"\n",
    "\n",
    "    def __init__(self):\n",
    "        # Register the _laser_cb method as a callback to the laser scan topic events\n",
    "        self._laser_sub = rospy.Subscriber ('/scan',\n",
    "                                           LaserScan, self._laser_cb)\n",
    "        self._scan_data = None\n",
    "\n",
    "    def _laser_cb (self, msg):\n",
    "        # Laser scan callback function\n",
    "        self._scan_data = msg\n",
    "\n",
    "    def get_data(self):\n",
    "        u\"\"\"Function to get the laser value\"\"\"\n",
    "        return self._scan_data"
   ]
  },
  {
   "cell_type": "code",
   "execution_count": 17,
   "id": "dd69c8a8",
   "metadata": {
    "id": "TE3sPPddFqzg"
   },
   "outputs": [],
   "source": [
    "laser = Laser()  #instanciamos una clase "
   ]
  },
  {
   "cell_type": "markdown",
   "id": "4c5beff2",
   "metadata": {
    "id": "kO0gPMeVFqzg",
    "lang": "ja"
   },
   "source": [
    "以下を実行することで、データを取得することができます。取得されたセンサ値を、`scan_data`変数に格納しています。"
   ]
  },
  {
   "cell_type": "markdown",
   "id": "bd57dbb8",
   "metadata": {
    "id": "yryv-uCjFqzg",
    "lang": "en"
   },
   "source": [
    "\n",
    "Llamando en método `get_data()` almacenamos la información del sensor en la variable `scan_data`:\n"
   ]
  },
  {
   "cell_type": "code",
   "execution_count": 18,
   "id": "50aeadcf",
   "metadata": {
    "id": "o6ZRn-d-Fqzh",
    "scrolled": false
   },
   "outputs": [],
   "source": [
    "scan_data = laser.get_data()"
   ]
  },
  {
   "cell_type": "markdown",
   "id": "94e3726a",
   "metadata": {
    "id": "dJZDwn0jFqzh",
    "lang": "ja"
   },
   "source": [
    "`scan_data`変数に格納されたセンサ値の中身を見てみましょう。"
   ]
  },
  {
   "cell_type": "markdown",
   "id": "5e6d2960",
   "metadata": {
    "id": "r9psJudBFqzi",
    "lang": "en"
   },
   "source": [
    "Analicemos la variable `scan_data` :"
   ]
  },
  {
   "cell_type": "code",
   "execution_count": 19,
   "id": "cc1573c3",
   "metadata": {
    "id": "PlGsp5VnFqzi"
   },
   "outputs": [
    {
     "data": {
      "text/plain": [
       "header: \n",
       "  seq: 1324\n",
       "  stamp: \n",
       "    secs: 658\n",
       "    nsecs: 641000000\n",
       "  frame_id: \"base_scan\"\n",
       "angle_min: 0.0\n",
       "angle_max: 6.28318977355957\n",
       "angle_increment: 0.017501922324299812\n",
       "time_increment: 0.0\n",
       "scan_time: 0.0\n",
       "range_min: 0.11999999731779099\n",
       "range_max: 3.5\n",
       "ranges: [0.35677626729011536, 0.3747844994068146, 0.35078978538513184, 0.345186322927475, 0.3742937445640564, 0.3566757142543793, 0.3583957552909851, 0.35723692178726196, 0.34782180190086365, 0.3456447124481201, 0.3356567919254303, 0.3479887843132019, 0.33887800574302673, 0.3584107756614685, 0.3335295021533966, 0.31561484932899475, 0.32200926542282104, 0.31718215346336365, 0.32829615473747253, 0.3097776174545288, 0.30813947319984436, 0.3049669861793518, 0.2919372618198395, 0.2858251631259918, 0.3047100007534027, 0.2772368788719177, 0.2881023585796356, 0.26833397150039673, 0.2506811022758484, 0.26487261056900024, 0.22523055970668793, 0.23451395332813263, 0.24028809368610382, 0.20205549895763397, 0.12551763653755188, 0.1252276450395584, 0.14383989572525024, 1.2155922651290894, 1.2181090116500854, 1.2119696140289307, 1.184093952178955, 1.1946660280227661, 1.1907341480255127, 1.163953185081482, 1.175541639328003, 1.165013074874878, 1.1708430051803589, 1.1469008922576904, 1.1344987154006958, 1.152569055557251, 1.1461373567581177, 1.1352161169052124, 1.1212177276611328, 1.143153190612793, 1.1137940883636475, 1.1124200820922852, 1.1228660345077515, 1.1130098104476929, 1.1213760375976562, 1.1251126527786255, 1.1314512491226196, 1.1129586696624756, 1.1264389753341675, 1.144052505493164, 1.1105297803878784, 1.128359079360962, 1.1411423683166504, 1.1341567039489746, 1.1320403814315796, 1.1538094282150269, 1.1501339673995972, 1.143232822418213, 1.1570332050323486, 1.1599535942077637, 1.1605072021484375, 1.1613229513168335, 1.1671212911605835, 1.1933348178863525, 1.1843763589859009, 1.1911122798919678, 1.1932642459869385, 1.2037744522094727, 1.226265788078308, 1.2281564474105835, 1.2334284782409668, 1.2442172765731812, 1.2535998821258545, 1.2626874446868896, 1.2733947038650513, 1.2941834926605225, 1.3156602382659912, 1.3116503953933716, 1.3371785879135132, 1.3487013578414917, 1.3487669229507446, 1.366032600402832, 1.3912298679351807, 1.4171236753463745, 1.4374982118606567, 1.4552167654037476, 1.4889484643936157, 1.5004159212112427, 1.526708960533142, 1.5498839616775513, 1.5597697496414185, 1.6105653047561646, 1.6286723613739014, 1.6397749185562134, 1.668822169303894, 1.7096102237701416, 1.7721983194351196, 1.799726128578186, 1.840383768081665, 1.873528242111206, 1.928686499595642, 1.975338339805603, 2.010866403579712, 1.98625910282135, 2.001385450363159, 1.9847829341888428, 2.008330821990967, 2.001779556274414, 2.004941940307617, 2.022026777267456, 2.0141043663024902, 2.0106654167175293, 2.01544451713562, 2.0027525424957275, 2.024911642074585, 2.0426628589630127, 2.047487497329712, 2.0414230823516846, 2.054053544998169, 2.0587198734283447, 2.0728001594543457, 2.0797572135925293, 2.0910420417785645, 2.0864996910095215, 2.097236394882202, 2.1333234310150146, 2.126052141189575, 2.1485354900360107, 2.162902593612671, 2.209136962890625, 2.19508957862854, 2.1976194381713867, 2.2451956272125244, 2.2521135807037354, 2.2861220836639404, 2.3156542778015137, 2.314053535461426, 2.3333330154418945, 2.3861186504364014, 2.388763427734375, 2.418948173522949, 2.454885721206665, 2.4906108379364014, 2.5170764923095703, 2.5432777404785156, 2.6004579067230225, 2.634901762008667, 2.6804959774017334, 2.7244393825531006, 2.752704620361328, 2.7880563735961914, 2.864358425140381, 2.9123380184173584, 2.9513819217681885, 2.929800033569336, 2.931767225265503, 2.936746835708618, 2.921257257461548, 0.81955885887146, 0.7864440083503723, 0.7831916809082031, 0.7612054944038391, 0.7658898234367371, 0.7513865828514099, 0.7444903254508972, 0.7374197840690613, 0.7273052334785461, 0.7251130938529968, 0.7376247644424438, 0.7270969748497009, 0.7266945838928223, 0.7324520945549011, 0.7326215505599976, 0.7531874179840088, 0.7629872560501099, 0.7619150280952454, 0.7885075807571411, 0.8653743267059326, inf, inf, inf, inf, inf, inf, inf, inf, inf, inf, inf, inf, inf, inf, 2.177241802215576, 2.154665470123291, 2.1334381103515625, 2.129746913909912, 2.143171787261963, 2.1501893997192383, 2.191776990890503, inf, inf, inf, inf, inf, inf, inf, inf, inf, inf, inf, inf, 2.9550201892852783, 1.366221308708191, 1.3180322647094727, 1.310799479484558, 1.3073381185531616, 1.2759156227111816, 1.2844079732894897, 1.2858070135116577, 1.2643029689788818, 1.2959213256835938, 1.3088854551315308, 1.3298176527023315, 1.3771315813064575, inf, inf, inf, inf, inf, inf, inf, 2.283878803253174, 2.261368751525879, 2.263524293899536, 2.2322282791137695, 2.2646148204803467, 2.262197732925415, 2.3170316219329834, inf, inf, inf, inf, inf, inf, inf, inf, inf, inf, inf, inf, inf, inf, inf, inf, inf, inf, inf, 3.485196352005005, 2.134275436401367, 1.0954506397247314, 1.0590986013412476, 1.0361124277114868, 1.0377559661865234, 1.0027281045913696, 1.0069786310195923, 1.001756191253662, 0.9753665328025818, 1.0092029571533203, 1.0017088651657104, 0.9971733689308167, 1.0336065292358398, 1.004493236541748, 1.0373560190200806, 1.0525554418563843, 3.1316423416137695, 3.1370553970336914, 3.104891300201416, 3.0238840579986572, 2.892516851425171, 2.774460792541504, 2.7663114070892334, 2.7480788230895996, 2.7587645053863525, 2.766798496246338, 2.759235143661499, 2.7436940670013428, 2.7472686767578125, 2.7531392574310303, 2.7478721141815186, 2.768841505050659, 2.7524523735046387, 2.7610833644866943, 2.7601025104522705, 2.7176380157470703, 2.640052556991577, 2.587235450744629, 0.14930617809295654, 0.12402850389480591, 0.11999999731779099, 0.22580908238887787, 0.22781215608119965, 0.2277027815580368, 0.2583514451980591, 0.27346137166023254, 0.26446089148521423, 0.2749779224395752, 0.2609652578830719, 0.2738288342952728, 0.28504809737205505, 0.2948635220527649, 0.3124426007270813, 0.31043770909309387, 0.305604487657547, 0.3051029145717621, 0.3271436393260956, 0.32798150181770325, 0.3347876965999603, 0.3448199927806854, 0.33624541759490967, 0.3367050290107727, 0.3284462094306946, 0.3243444561958313, 0.3453246057033539, 0.3571646809577942, 0.3618762493133545, 0.3496076762676239, 0.36080193519592285, 0.35864681005477905, 0.35915446281433105, 0.3638460040092468, 0.36969518661499023, 0.3617733418941498, 0.37317216396331787, 0.36167028546333313, 0.3791426122188568, 0.37789037823677063, 0.3729436695575714, 0.36551132798194885, 0.3587864637374878, 0.3597421944141388, 0.37162771821022034, 0.3670326769351959, 0.37040409445762634, 0.3687402009963989, 0.36326438188552856, 0.3720180094242096]\n",
       "intensities: [0.0, 0.0, 0.0, 0.0, 0.0, 0.0, 0.0, 0.0, 0.0, 0.0, 0.0, 0.0, 0.0, 0.0, 0.0, 0.0, 0.0, 0.0, 0.0, 0.0, 0.0, 0.0, 0.0, 0.0, 0.0, 0.0, 0.0, 0.0, 0.0, 0.0, 0.0, 0.0, 0.0, 0.0, 0.0, 0.0, 0.0, 0.0, 0.0, 0.0, 0.0, 0.0, 0.0, 0.0, 0.0, 0.0, 0.0, 0.0, 0.0, 0.0, 0.0, 0.0, 0.0, 0.0, 0.0, 0.0, 0.0, 0.0, 0.0, 0.0, 0.0, 0.0, 0.0, 0.0, 0.0, 0.0, 0.0, 0.0, 0.0, 0.0, 0.0, 0.0, 0.0, 0.0, 0.0, 0.0, 0.0, 0.0, 0.0, 0.0, 0.0, 0.0, 0.0, 0.0, 0.0, 0.0, 0.0, 0.0, 0.0, 0.0, 0.0, 0.0, 0.0, 0.0, 0.0, 0.0, 0.0, 0.0, 0.0, 0.0, 0.0, 0.0, 0.0, 0.0, 0.0, 0.0, 0.0, 0.0, 0.0, 0.0, 0.0, 0.0, 0.0, 0.0, 0.0, 0.0, 0.0, 0.0, 0.0, 0.0, 0.0, 0.0, 0.0, 0.0, 0.0, 0.0, 0.0, 0.0, 0.0, 0.0, 0.0, 0.0, 0.0, 0.0, 0.0, 0.0, 0.0, 0.0, 0.0, 0.0, 0.0, 0.0, 0.0, 0.0, 0.0, 0.0, 0.0, 0.0, 0.0, 0.0, 0.0, 0.0, 0.0, 0.0, 0.0, 0.0, 0.0, 0.0, 0.0, 0.0, 0.0, 0.0, 0.0, 0.0, 0.0, 0.0, 0.0, 0.0, 0.0, 0.0, 0.0, 0.0, 0.0, 0.0, 0.0, 0.0, 0.0, 0.0, 0.0, 0.0, 0.0, 0.0, 0.0, 0.0, 0.0, 0.0, 0.0, 0.0, 0.0, 0.0, 0.0, 0.0, 0.0, 0.0, 0.0, 0.0, 0.0, 0.0, 0.0, 0.0, 0.0, 0.0, 0.0, 0.0, 0.0, 0.0, 0.0, 0.0, 0.0, 0.0, 0.0, 0.0, 0.0, 0.0, 0.0, 0.0, 0.0, 0.0, 0.0, 0.0, 0.0, 0.0, 0.0, 0.0, 0.0, 0.0, 0.0, 0.0, 0.0, 0.0, 0.0, 0.0, 0.0, 0.0, 0.0, 0.0, 0.0, 0.0, 0.0, 0.0, 0.0, 0.0, 0.0, 0.0, 0.0, 0.0, 0.0, 0.0, 0.0, 0.0, 0.0, 0.0, 0.0, 0.0, 0.0, 0.0, 0.0, 0.0, 0.0, 0.0, 0.0, 0.0, 0.0, 0.0, 0.0, 0.0, 0.0, 0.0, 0.0, 0.0, 0.0, 0.0, 0.0, 0.0, 0.0, 0.0, 0.0, 0.0, 0.0, 0.0, 0.0, 0.0, 0.0, 0.0, 0.0, 0.0, 0.0, 0.0, 0.0, 0.0, 0.0, 0.0, 0.0, 0.0, 0.0, 0.0, 0.0, 0.0, 0.0, 0.0, 0.0, 0.0, 0.0, 0.0, 0.0, 0.0, 0.0, 0.0, 0.0, 0.0, 0.0, 0.0, 0.0, 0.0, 0.0, 0.0, 0.0, 0.0, 0.0, 0.0, 0.0, 0.0, 0.0, 0.0, 0.0, 0.0, 0.0, 0.0, 0.0, 0.0, 0.0, 0.0, 0.0, 0.0, 0.0, 0.0, 0.0, 0.0, 0.0, 0.0, 0.0, 0.0, 0.0, 0.0, 0.0, 0.0, 0.0, 0.0, 0.0, 0.0, 0.0, 0.0, 0.0, 0.0, 0.0, 0.0, 0.0, 0.0, 0.0, 0.0]"
      ]
     },
     "execution_count": 19,
     "metadata": {},
     "output_type": "execute_result"
    }
   ],
   "source": [
    "scan_data\n"
   ]
  },
  {
   "cell_type": "code",
   "execution_count": 20,
   "id": "388a25b6",
   "metadata": {
    "id": "wNhkMgoRFqzj",
    "scrolled": false
   },
   "outputs": [
    {
     "data": {
      "text/plain": [
       "header: \n",
       "  seq: 1324\n",
       "  stamp: \n",
       "    secs: 658\n",
       "    nsecs: 641000000\n",
       "  frame_id: \"base_scan\"\n",
       "angle_min: 0.0\n",
       "angle_max: 6.28318977355957\n",
       "angle_increment: 0.017501922324299812\n",
       "time_increment: 0.0\n",
       "scan_time: 0.0\n",
       "range_min: 0.11999999731779099\n",
       "range_max: 3.5\n",
       "ranges: [0.35677626729011536, 0.3747844994068146, 0.35078978538513184, 0.345186322927475, 0.3742937445640564, 0.3566757142543793, 0.3583957552909851, 0.35723692178726196, 0.34782180190086365, 0.3456447124481201, 0.3356567919254303, 0.3479887843132019, 0.33887800574302673, 0.3584107756614685, 0.3335295021533966, 0.31561484932899475, 0.32200926542282104, 0.31718215346336365, 0.32829615473747253, 0.3097776174545288, 0.30813947319984436, 0.3049669861793518, 0.2919372618198395, 0.2858251631259918, 0.3047100007534027, 0.2772368788719177, 0.2881023585796356, 0.26833397150039673, 0.2506811022758484, 0.26487261056900024, 0.22523055970668793, 0.23451395332813263, 0.24028809368610382, 0.20205549895763397, 0.12551763653755188, 0.1252276450395584, 0.14383989572525024, 1.2155922651290894, 1.2181090116500854, 1.2119696140289307, 1.184093952178955, 1.1946660280227661, 1.1907341480255127, 1.163953185081482, 1.175541639328003, 1.165013074874878, 1.1708430051803589, 1.1469008922576904, 1.1344987154006958, 1.152569055557251, 1.1461373567581177, 1.1352161169052124, 1.1212177276611328, 1.143153190612793, 1.1137940883636475, 1.1124200820922852, 1.1228660345077515, 1.1130098104476929, 1.1213760375976562, 1.1251126527786255, 1.1314512491226196, 1.1129586696624756, 1.1264389753341675, 1.144052505493164, 1.1105297803878784, 1.128359079360962, 1.1411423683166504, 1.1341567039489746, 1.1320403814315796, 1.1538094282150269, 1.1501339673995972, 1.143232822418213, 1.1570332050323486, 1.1599535942077637, 1.1605072021484375, 1.1613229513168335, 1.1671212911605835, 1.1933348178863525, 1.1843763589859009, 1.1911122798919678, 1.1932642459869385, 1.2037744522094727, 1.226265788078308, 1.2281564474105835, 1.2334284782409668, 1.2442172765731812, 1.2535998821258545, 1.2626874446868896, 1.2733947038650513, 1.2941834926605225, 1.3156602382659912, 1.3116503953933716, 1.3371785879135132, 1.3487013578414917, 1.3487669229507446, 1.366032600402832, 1.3912298679351807, 1.4171236753463745, 1.4374982118606567, 1.4552167654037476, 1.4889484643936157, 1.5004159212112427, 1.526708960533142, 1.5498839616775513, 1.5597697496414185, 1.6105653047561646, 1.6286723613739014, 1.6397749185562134, 1.668822169303894, 1.7096102237701416, 1.7721983194351196, 1.799726128578186, 1.840383768081665, 1.873528242111206, 1.928686499595642, 1.975338339805603, 2.010866403579712, 1.98625910282135, 2.001385450363159, 1.9847829341888428, 2.008330821990967, 2.001779556274414, 2.004941940307617, 2.022026777267456, 2.0141043663024902, 2.0106654167175293, 2.01544451713562, 2.0027525424957275, 2.024911642074585, 2.0426628589630127, 2.047487497329712, 2.0414230823516846, 2.054053544998169, 2.0587198734283447, 2.0728001594543457, 2.0797572135925293, 2.0910420417785645, 2.0864996910095215, 2.097236394882202, 2.1333234310150146, 2.126052141189575, 2.1485354900360107, 2.162902593612671, 2.209136962890625, 2.19508957862854, 2.1976194381713867, 2.2451956272125244, 2.2521135807037354, 2.2861220836639404, 2.3156542778015137, 2.314053535461426, 2.3333330154418945, 2.3861186504364014, 2.388763427734375, 2.418948173522949, 2.454885721206665, 2.4906108379364014, 2.5170764923095703, 2.5432777404785156, 2.6004579067230225, 2.634901762008667, 2.6804959774017334, 2.7244393825531006, 2.752704620361328, 2.7880563735961914, 2.864358425140381, 2.9123380184173584, 2.9513819217681885, 2.929800033569336, 2.931767225265503, 2.936746835708618, 2.921257257461548, 0.81955885887146, 0.7864440083503723, 0.7831916809082031, 0.7612054944038391, 0.7658898234367371, 0.7513865828514099, 0.7444903254508972, 0.7374197840690613, 0.7273052334785461, 0.7251130938529968, 0.7376247644424438, 0.7270969748497009, 0.7266945838928223, 0.7324520945549011, 0.7326215505599976, 0.7531874179840088, 0.7629872560501099, 0.7619150280952454, 0.7885075807571411, 0.8653743267059326, inf, inf, inf, inf, inf, inf, inf, inf, inf, inf, inf, inf, inf, inf, 2.177241802215576, 2.154665470123291, 2.1334381103515625, 2.129746913909912, 2.143171787261963, 2.1501893997192383, 2.191776990890503, inf, inf, inf, inf, inf, inf, inf, inf, inf, inf, inf, inf, 2.9550201892852783, 1.366221308708191, 1.3180322647094727, 1.310799479484558, 1.3073381185531616, 1.2759156227111816, 1.2844079732894897, 1.2858070135116577, 1.2643029689788818, 1.2959213256835938, 1.3088854551315308, 1.3298176527023315, 1.3771315813064575, inf, inf, inf, inf, inf, inf, inf, 2.283878803253174, 2.261368751525879, 2.263524293899536, 2.2322282791137695, 2.2646148204803467, 2.262197732925415, 2.3170316219329834, inf, inf, inf, inf, inf, inf, inf, inf, inf, inf, inf, inf, inf, inf, inf, inf, inf, inf, inf, 3.485196352005005, 2.134275436401367, 1.0954506397247314, 1.0590986013412476, 1.0361124277114868, 1.0377559661865234, 1.0027281045913696, 1.0069786310195923, 1.001756191253662, 0.9753665328025818, 1.0092029571533203, 1.0017088651657104, 0.9971733689308167, 1.0336065292358398, 1.004493236541748, 1.0373560190200806, 1.0525554418563843, 3.1316423416137695, 3.1370553970336914, 3.104891300201416, 3.0238840579986572, 2.892516851425171, 2.774460792541504, 2.7663114070892334, 2.7480788230895996, 2.7587645053863525, 2.766798496246338, 2.759235143661499, 2.7436940670013428, 2.7472686767578125, 2.7531392574310303, 2.7478721141815186, 2.768841505050659, 2.7524523735046387, 2.7610833644866943, 2.7601025104522705, 2.7176380157470703, 2.640052556991577, 2.587235450744629, 0.14930617809295654, 0.12402850389480591, 0.11999999731779099, 0.22580908238887787, 0.22781215608119965, 0.2277027815580368, 0.2583514451980591, 0.27346137166023254, 0.26446089148521423, 0.2749779224395752, 0.2609652578830719, 0.2738288342952728, 0.28504809737205505, 0.2948635220527649, 0.3124426007270813, 0.31043770909309387, 0.305604487657547, 0.3051029145717621, 0.3271436393260956, 0.32798150181770325, 0.3347876965999603, 0.3448199927806854, 0.33624541759490967, 0.3367050290107727, 0.3284462094306946, 0.3243444561958313, 0.3453246057033539, 0.3571646809577942, 0.3618762493133545, 0.3496076762676239, 0.36080193519592285, 0.35864681005477905, 0.35915446281433105, 0.3638460040092468, 0.36969518661499023, 0.3617733418941498, 0.37317216396331787, 0.36167028546333313, 0.3791426122188568, 0.37789037823677063, 0.3729436695575714, 0.36551132798194885, 0.3587864637374878, 0.3597421944141388, 0.37162771821022034, 0.3670326769351959, 0.37040409445762634, 0.3687402009963989, 0.36326438188552856, 0.3720180094242096]\n",
       "intensities: [0.0, 0.0, 0.0, 0.0, 0.0, 0.0, 0.0, 0.0, 0.0, 0.0, 0.0, 0.0, 0.0, 0.0, 0.0, 0.0, 0.0, 0.0, 0.0, 0.0, 0.0, 0.0, 0.0, 0.0, 0.0, 0.0, 0.0, 0.0, 0.0, 0.0, 0.0, 0.0, 0.0, 0.0, 0.0, 0.0, 0.0, 0.0, 0.0, 0.0, 0.0, 0.0, 0.0, 0.0, 0.0, 0.0, 0.0, 0.0, 0.0, 0.0, 0.0, 0.0, 0.0, 0.0, 0.0, 0.0, 0.0, 0.0, 0.0, 0.0, 0.0, 0.0, 0.0, 0.0, 0.0, 0.0, 0.0, 0.0, 0.0, 0.0, 0.0, 0.0, 0.0, 0.0, 0.0, 0.0, 0.0, 0.0, 0.0, 0.0, 0.0, 0.0, 0.0, 0.0, 0.0, 0.0, 0.0, 0.0, 0.0, 0.0, 0.0, 0.0, 0.0, 0.0, 0.0, 0.0, 0.0, 0.0, 0.0, 0.0, 0.0, 0.0, 0.0, 0.0, 0.0, 0.0, 0.0, 0.0, 0.0, 0.0, 0.0, 0.0, 0.0, 0.0, 0.0, 0.0, 0.0, 0.0, 0.0, 0.0, 0.0, 0.0, 0.0, 0.0, 0.0, 0.0, 0.0, 0.0, 0.0, 0.0, 0.0, 0.0, 0.0, 0.0, 0.0, 0.0, 0.0, 0.0, 0.0, 0.0, 0.0, 0.0, 0.0, 0.0, 0.0, 0.0, 0.0, 0.0, 0.0, 0.0, 0.0, 0.0, 0.0, 0.0, 0.0, 0.0, 0.0, 0.0, 0.0, 0.0, 0.0, 0.0, 0.0, 0.0, 0.0, 0.0, 0.0, 0.0, 0.0, 0.0, 0.0, 0.0, 0.0, 0.0, 0.0, 0.0, 0.0, 0.0, 0.0, 0.0, 0.0, 0.0, 0.0, 0.0, 0.0, 0.0, 0.0, 0.0, 0.0, 0.0, 0.0, 0.0, 0.0, 0.0, 0.0, 0.0, 0.0, 0.0, 0.0, 0.0, 0.0, 0.0, 0.0, 0.0, 0.0, 0.0, 0.0, 0.0, 0.0, 0.0, 0.0, 0.0, 0.0, 0.0, 0.0, 0.0, 0.0, 0.0, 0.0, 0.0, 0.0, 0.0, 0.0, 0.0, 0.0, 0.0, 0.0, 0.0, 0.0, 0.0, 0.0, 0.0, 0.0, 0.0, 0.0, 0.0, 0.0, 0.0, 0.0, 0.0, 0.0, 0.0, 0.0, 0.0, 0.0, 0.0, 0.0, 0.0, 0.0, 0.0, 0.0, 0.0, 0.0, 0.0, 0.0, 0.0, 0.0, 0.0, 0.0, 0.0, 0.0, 0.0, 0.0, 0.0, 0.0, 0.0, 0.0, 0.0, 0.0, 0.0, 0.0, 0.0, 0.0, 0.0, 0.0, 0.0, 0.0, 0.0, 0.0, 0.0, 0.0, 0.0, 0.0, 0.0, 0.0, 0.0, 0.0, 0.0, 0.0, 0.0, 0.0, 0.0, 0.0, 0.0, 0.0, 0.0, 0.0, 0.0, 0.0, 0.0, 0.0, 0.0, 0.0, 0.0, 0.0, 0.0, 0.0, 0.0, 0.0, 0.0, 0.0, 0.0, 0.0, 0.0, 0.0, 0.0, 0.0, 0.0, 0.0, 0.0, 0.0, 0.0, 0.0, 0.0, 0.0, 0.0, 0.0, 0.0, 0.0, 0.0, 0.0, 0.0, 0.0, 0.0, 0.0, 0.0, 0.0, 0.0, 0.0, 0.0, 0.0, 0.0, 0.0, 0.0, 0.0, 0.0, 0.0, 0.0, 0.0, 0.0, 0.0, 0.0, 0.0, 0.0, 0.0, 0.0, 0.0, 0.0, 0.0, 0.0]"
      ]
     },
     "execution_count": 20,
     "metadata": {},
     "output_type": "execute_result"
    }
   ],
   "source": [
    "scan_data"
   ]
  },
  {
   "cell_type": "code",
   "execution_count": 21,
   "id": "6a51e308",
   "metadata": {
    "id": "snSD1icEFqzj",
    "lang": "ja"
   },
   "outputs": [
    {
     "data": {
      "text/plain": [
       "360.0002559047228"
      ]
     },
     "execution_count": 21,
     "metadata": {},
     "output_type": "execute_result"
    }
   ],
   "source": [
    "##Ejemplo de como acceder a los datos del mensaje\n",
    "scan_data.angle_max / np.pi * 180  # math.pi = π"
   ]
  },
  {
   "cell_type": "markdown",
   "id": "25a3f9ee",
   "metadata": {
    "id": "fhIxxNzYFqzk",
    "lang": "ja"
   },
   "source": []
  },
  {
   "cell_type": "markdown",
   "id": "313ada24",
   "metadata": {
    "id": "tt3He3eIFqzk",
    "lang": "en"
   },
   "source": []
  },
  {
   "cell_type": "markdown",
   "id": "63d02836",
   "metadata": {
    "id": "k9reM-hzFqzl"
   },
   "source": [
    "La información del scanner se encuentra en el arreglo llamado `ranges`, su longitud es de  360 para el turtlebot:"
   ]
  },
  {
   "cell_type": "code",
   "execution_count": 23,
   "id": "cf8b7fbd",
   "metadata": {
    "id": "rOZEH6FdFqzl",
    "lang": "ja"
   },
   "outputs": [
    {
     "data": {
      "text/plain": [
       "360"
      ]
     },
     "execution_count": 23,
     "metadata": {},
     "output_type": "execute_result"
    }
   ],
   "source": [
    "# データの配列の長さを取得 Get length of the array\n",
    "len(scan_data.ranges)"
   ]
  },
  {
   "cell_type": "markdown",
   "id": "d716a901",
   "metadata": {
    "id": "APfZhYeEFqzl",
    "lang": "ja"
   },
   "source": []
  },
  {
   "cell_type": "markdown",
   "id": "5e43ddc6",
   "metadata": {
    "id": "6HW578n-Fqzl",
    "lang": "en"
   },
   "source": []
  },
  {
   "cell_type": "markdown",
   "id": "45ce29b2",
   "metadata": {
    "id": "QOziCWczFqzm",
    "lang": "en"
   },
   "source": [
    "Ya que cada observación está dividida en un arco 0 degrees to 2 pi degrees) el elemento en el centro del arreglo (= 361)representa la distancia frente al robot en metros\n",
    "\n"
   ]
  },
  {
   "cell_type": "code",
   "execution_count": 26,
   "id": "bf2b8bba",
   "metadata": {
    "id": "7wu8MZwZFqzm",
    "lang": "ja"
   },
   "outputs": [
    {
     "data": {
      "text/plain": [
       "0.7273052334785461"
      ]
     },
     "execution_count": 26,
     "metadata": {},
     "output_type": "execute_result"
    }
   ],
   "source": [
    "# 361番目のデータにアクセス Access the 180th data range ( aprox in front of robot)\n",
    "scan_data.ranges[180]"
   ]
  },
  {
   "cell_type": "markdown",
   "id": "829231d7",
   "metadata": {
    "id": "jZC5c59XFqzm"
   },
   "source": [
    "Tarea  utililce la información del sensores para mejorar el código que propuso en la tarea anterior. Como evitar chocar con la pared? Todos los obstáculos son visibles al robot?\n",
    "A falta de mapa, como recordar la posición inicial"
   ]
  },
  {
   "cell_type": "markdown",
   "id": "788cf42b",
   "metadata": {
    "id": "6x3WkFieFqzm"
   },
   "source": [
    "¡Buena Suerte!"
   ]
  },
  {
   "cell_type": "markdown",
   "id": "db294201",
   "metadata": {
    "id": "E2FWzlwWFqzn"
   },
   "source": [
    "\n"
   ]
  },
  {
   "cell_type": "code",
   "execution_count": null,
   "id": "369b6202",
   "metadata": {
    "id": "Q4uSkQA7Fqzn"
   },
   "outputs": [],
   "source": []
  },
  {
   "cell_type": "code",
   "execution_count": null,
   "id": "959dc444",
   "metadata": {
    "id": "cd3nqY9cFqzn"
   },
   "outputs": [],
   "source": []
  },
  {
   "cell_type": "code",
   "execution_count": null,
   "id": "56830b29",
   "metadata": {
    "id": "tUMshBBuFqzo"
   },
   "outputs": [],
   "source": [
    "trans = tfBuffer.lookup_transform('map', 'base_link', rospy.Time())"
   ]
  },
  {
   "cell_type": "code",
   "execution_count": null,
   "id": "17c02bd8",
   "metadata": {
    "id": "259OvzHFFqzo"
   },
   "outputs": [],
   "source": [
    "def set_waypoint ():\n",
    "    trans = tfBuffer.lookup_transform('map', 'base_link', rospy.Time())\n",
    "    return trans\n",
    "\n",
    "trans_goal= set_waypoint()\n"
   ]
  },
  {
   "cell_type": "code",
   "execution_count": null,
   "id": "2417d84e",
   "metadata": {
    "id": "6C-2LS00Fqzo"
   },
   "outputs": [],
   "source": [
    "tans_start_point =set_waypoint()\n"
   ]
  },
  {
   "cell_type": "code",
   "execution_count": null,
   "id": "ec3ffab5",
   "metadata": {
    "id": "YtfIlz2TFqzp"
   },
   "outputs": [],
   "source": [
    "tans_start_point"
   ]
  }
 ],
 "metadata": {
  "colab": {
   "collapsed_sections": [
    "jgdUCCcZFqzb"
   ],
   "name": "notebook1_movimiento_base_y_sensores.ipynb",
   "provenance": []
  },
  "kernelspec": {
   "display_name": "Python 3 (ipykernel)",
   "language": "python",
   "name": "python3"
  },
  "language_info": {
   "codemirror_mode": {
    "name": "ipython",
    "version": 3
   },
   "file_extension": ".py",
   "mimetype": "text/x-python",
   "name": "python",
   "nbconvert_exporter": "python",
   "pygments_lexer": "ipython3",
   "version": "3.8.10"
  },
  "nbTranslate": {
   "displayLangs": [
    "ja",
    "en"
   ],
   "hotkey": "alt-t",
   "langInMainMenu": true,
   "sourceLang": "ja",
   "targetLang": "en",
   "useGoogleTranslate": true
  },
  "toc": {
   "base_numbering": 1,
   "nav_menu": {},
   "number_sections": true,
   "sideBar": true,
   "skip_h1_title": false,
   "title_cell": "Table of Contents",
   "title_sidebar": "Contents",
   "toc_cell": false,
   "toc_position": {},
   "toc_section_display": true,
   "toc_window_display": true
  }
 },
 "nbformat": 4,
 "nbformat_minor": 5
}
