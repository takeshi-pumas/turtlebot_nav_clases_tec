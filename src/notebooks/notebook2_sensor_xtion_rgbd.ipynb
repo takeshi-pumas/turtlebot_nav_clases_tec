{
 "cells": [
  {
   "cell_type": "markdown",
   "metadata": {
    "id": "G-effaRbQQVR",
    "lang": "ja"
   },
   "source": [
    "Notebooks adaptados y traducidos a partir de los tutoriales de código abierto \n",
    "utilizados en las competencias virtuales de los últimos 2 años\n",
    "Yamamoto, T., Terada, K., Ochiai, A. et al. Development of Human Support Robot as the research platform of a domestic mobile manipulator. Robomech J 6, 4 (2019). https://doi.org/10.1186/s40648-019-0132-3\n",
    "\n",
    "Por favor Consulte los originales en inglés y Japonés en https://github.com/hsr-project/hsrb_robocup_dspl_docker\n"
   ]
  },
  {
   "cell_type": "code",
   "execution_count": null,
   "metadata": {
    "id": "BtCp2FAwcclK"
   },
   "outputs": [],
   "source": []
  },
  {
   "cell_type": "markdown",
   "metadata": {
    "id": "SkYzVnYvQQVU"
   },
   "source": [
    "Adaptado al español por Laboratorio BioRobótica UNAM\n",
    "Oscar Fuentes\n"
   ]
  },
  {
   "cell_type": "markdown",
   "metadata": {
    "id": "i3VC8-3OQQVV",
    "lang": "en"
   },
   "source": [
    "Para correr este notebook debe tenerse familiaridad con términos de ROS como tópicos, listeners, publishers, mensajes etc.\n"
   ]
  },
  {
   "cell_type": "code",
   "execution_count": 3,
   "metadata": {
    "id": "537iglBRQQVV"
   },
   "outputs": [],
   "source": [
    "#ROS NOETIC UBUNTU 20 PYTHON3  \n",
    "#ROS MELODIC UBUNTU 18 Python2   (iKERNEL)"
   ]
  },
  {
   "cell_type": "code",
   "execution_count": 4,
   "metadata": {
    "id": "7rqs0esnQQVW"
   },
   "outputs": [],
   "source": [
    "import math\n",
    "import rospy\n",
    "import time\n",
    "from sensor_msgs.msg import LaserScan, PointCloud2 ,Image"
   ]
  },
  {
   "cell_type": "markdown",
   "metadata": {
    "id": "afPDztMgQQVW"
   },
   "source": [
    "Introducimos ahora dos nuevos tipos de mensajes relevantes. Imagen  y nube de puntos, Ambos mensajes propios de ros, \n",
    "se muestran algunas librerías que hacen más fácil su utilización en Python\n",
    "https://www.ros.org/\n",
    "http://wiki.ros.org/ros_numpy\n",
    "http://wiki.ros.org/cv_bridge\n"
   ]
  },
  {
   "cell_type": "code",
   "execution_count": 5,
   "metadata": {
    "id": "aZBg-rpqQQVX"
   },
   "outputs": [],
   "source": [
    "import numpy as np\n",
    "import ros_numpy\n",
    "\n"
   ]
  },
  {
   "cell_type": "markdown",
   "metadata": {
    "id": "J70VdkIIQQVX"
   },
   "source": []
  },
  {
   "cell_type": "markdown",
   "metadata": {
    "id": "04A8El2KQQVX"
   },
   "source": [
    "Es recomendable revisar la documnetación porpia de ROS al respecto, así como la de algunos paquetes auxiliares como ros_numpy y cv_bridge"
   ]
  },
  {
   "cell_type": "markdown",
   "metadata": {
    "id": "Xzfar2zPQQVY"
   },
   "source": [
    "La manipulación de imáges es realizada con open_cv. También es muy recomendable revisar su documentación. \n",
    "https://opencv.org/"
   ]
  },
  {
   "cell_type": "code",
   "execution_count": null,
   "metadata": {
    "id": "26rXLbPdQQVY"
   },
   "outputs": [],
   "source": []
  },
  {
   "cell_type": "code",
   "execution_count": 6,
   "metadata": {
    "id": "QOvwWN4AQQVZ"
   },
   "outputs": [
    {
     "name": "stdout",
     "output_type": "stream",
     "text": [
      "[sensor_msgs/Image]:\n",
      "std_msgs/Header header\n",
      "  uint32 seq\n",
      "  time stamp\n",
      "  string frame_id\n",
      "uint32 height\n",
      "uint32 width\n",
      "string encoding\n",
      "uint8 is_bigendian\n",
      "uint32 step\n",
      "uint8[] data\n",
      "\n",
      "[object_classification/Image]:\n",
      "sensor_msgs/Image[] image_msgs\n",
      "  std_msgs/Header header\n",
      "    uint32 seq\n",
      "    time stamp\n",
      "    string frame_id\n",
      "  uint32 height\n",
      "  uint32 width\n",
      "  string encoding\n",
      "  uint8 is_bigendian\n",
      "  uint32 step\n",
      "  uint8[] data\n",
      "\n"
     ]
    }
   ],
   "source": [
    "! rosmsg info Image"
   ]
  },
  {
   "cell_type": "code",
   "execution_count": 7,
   "metadata": {
    "id": "xWDuy-EzQQVZ"
   },
   "outputs": [
    {
     "name": "stdout",
     "output_type": "stream",
     "text": [
      "[sensor_msgs/PointCloud2]:\r\n",
      "std_msgs/Header header\r\n",
      "  uint32 seq\r\n",
      "  time stamp\r\n",
      "  string frame_id\r\n",
      "uint32 height\r\n",
      "uint32 width\r\n",
      "sensor_msgs/PointField[] fields\r\n",
      "  uint8 INT8=1\r\n",
      "  uint8 UINT8=2\r\n",
      "  uint8 INT16=3\r\n",
      "  uint8 UINT16=4\r\n",
      "  uint8 INT32=5\r\n",
      "  uint8 UINT32=6\r\n",
      "  uint8 FLOAT32=7\r\n",
      "  uint8 FLOAT64=8\r\n",
      "  string name\r\n",
      "  uint32 offset\r\n",
      "  uint8 datatype\r\n",
      "  uint32 count\r\n",
      "bool is_bigendian\r\n",
      "uint32 point_step\r\n",
      "uint32 row_step\r\n",
      "uint8[] data\r\n",
      "bool is_dense\r\n",
      "\r\n"
     ]
    }
   ],
   "source": [
    "! rosmsg info PointCloud2"
   ]
  },
  {
   "cell_type": "code",
   "execution_count": 8,
   "metadata": {
    "id": "JYHLUK94QQVa"
   },
   "outputs": [],
   "source": [
    "rospy.init_node('xtion_rgbd_notebook_node')    ### Conectamos/creamos nuestro nodo"
   ]
  },
  {
   "cell_type": "markdown",
   "metadata": {
    "id": "xd2pCj-mQQVa"
   },
   "source": [
    "El objetivo de este notebook es obtener y procesar la información que se recibe del sensor de visión. El XTION, \n",
    "obtiene información RGB que publica en el tópico : en froma de mensajes tipo Image"
   ]
  },
  {
   "cell_type": "markdown",
   "metadata": {
    "id": "wchvCbAaQQVa"
   },
   "source": [
    "Simultáneamente , es publicado en el tópico \"/hsrb/head_rgbd_sensor/depth_registered/rectified_points\"\n",
    ", información de la nube de puntos, en forma de un mensaje tipo  PointCloud2"
   ]
  },
  {
   "cell_type": "code",
   "execution_count": 9,
   "metadata": {
    "id": "cqJfkquIQQVa"
   },
   "outputs": [],
   "source": [
    "class RGBD():\n",
    "    \n",
    "\n",
    "    def __init__(self):\n",
    "        self._cloud_sub = rospy.Subscriber(\n",
    "            \"/hsrb/head_rgbd_sensor/depth_registered/rectified_points\",\n",
    "            PointCloud2, self._cloud_cb)\n",
    "        self._points_data = None\n",
    "        self._image_data = None\n",
    "        \n",
    "    def _cloud_cb(self, msg):\n",
    "        \n",
    "        self._points_data = ros_numpy.numpify(msg)\n",
    "\n",
    "        \n",
    "        self._image_data = self._points_data['rgb'].view((np.uint8, 4))[..., [2, 1, 0]]\n",
    "\n",
    "        \n",
    "    def get_image(self):\n",
    "        \n",
    "        return self._image_data\n",
    "\n",
    "    def get_points(self):\n",
    "        \n",
    "        return self._points_data\n"
   ]
  },
  {
   "cell_type": "code",
   "execution_count": 10,
   "metadata": {
    "id": "wPNMCLdeQQVb"
   },
   "outputs": [],
   "source": [
    "rgbd= RGBD()"
   ]
  },
  {
   "cell_type": "markdown",
   "metadata": {
    "id": "DRVvML8kQQVb",
    "lang": "en"
   },
   "source": [
    "primero instanciamos una clase RGBD, llamada rgbd.\n",
    "Después llamamos los métdos declarados"
   ]
  },
  {
   "cell_type": "markdown",
   "metadata": {
    "id": "7Nl2SsMjQQVb"
   },
   "source": [
    "rgbd.get_image() nos da  la imagen las imágenes que utiliza opencv en python son matrices de numpy, con datos tipo \"dtype=uint8\""
   ]
  },
  {
   "cell_type": "code",
   "execution_count": 11,
   "metadata": {
    "id": "QPjjpRLGQQVb"
   },
   "outputs": [
    {
     "data": {
      "text/plain": [
       "array([[[178, 178, 178],\n",
       "        [178, 178, 178],\n",
       "        [178, 178, 178],\n",
       "        ...,\n",
       "        [178, 178, 178],\n",
       "        [178, 178, 178],\n",
       "        [178, 178, 178]],\n",
       "\n",
       "       [[178, 178, 178],\n",
       "        [178, 178, 178],\n",
       "        [178, 178, 178],\n",
       "        ...,\n",
       "        [178, 178, 178],\n",
       "        [178, 178, 178],\n",
       "        [178, 178, 178]],\n",
       "\n",
       "       [[178, 178, 178],\n",
       "        [178, 178, 178],\n",
       "        [178, 178, 178],\n",
       "        ...,\n",
       "        [178, 178, 178],\n",
       "        [178, 178, 178],\n",
       "        [178, 178, 178]],\n",
       "\n",
       "       ...,\n",
       "\n",
       "       [[190, 150,  92],\n",
       "        [191, 151,  93],\n",
       "        [191, 151,  94],\n",
       "        ...,\n",
       "        [201, 201, 201],\n",
       "        [201, 201, 201],\n",
       "        [201, 201, 201]],\n",
       "\n",
       "       [[191, 151,  93],\n",
       "        [191, 151,  94],\n",
       "        [192, 152,  94],\n",
       "        ...,\n",
       "        [201, 201, 201],\n",
       "        [201, 201, 201],\n",
       "        [201, 201, 201]],\n",
       "\n",
       "       [[191, 151,  94],\n",
       "        [192, 152,  95],\n",
       "        [193, 154,  96],\n",
       "        ...,\n",
       "        [201, 201, 201],\n",
       "        [201, 201, 201],\n",
       "        [201, 201, 201]]], dtype=uint8)"
      ]
     },
     "execution_count": 11,
     "metadata": {},
     "output_type": "execute_result"
    }
   ],
   "source": [
    "rgbd.get_image()"
   ]
  },
  {
   "cell_type": "markdown",
   "metadata": {
    "id": "fH7y1NhkQQVc"
   },
   "source": [
    "el método rgbd.get_points() convierte el mensaje PointCloud 2 en un arreglo  numpy  con las coordenadas de cada uno de los puntos de la nube además de un \"indice de reflexión\" con la calidad del rayo recibido. El método usa \"under the hood\"  la función \"numpify\" de ros_numpy   para  conviertir el mensaje PointCloud2 "
   ]
  },
  {
   "cell_type": "code",
   "execution_count": 12,
   "metadata": {
    "id": "lG1_DZ6WQQVc"
   },
   "outputs": [
    {
     "data": {
      "text/plain": [
       "array([[(        nan,        nan,       nan, 1.6410822e-38),\n",
       "        (        nan,        nan,       nan, 1.6410822e-38),\n",
       "        (        nan,        nan,       nan, 1.6410822e-38), ...,\n",
       "        (        nan,        nan,       nan, 1.6410822e-38),\n",
       "        (        nan,        nan,       nan, 1.6410822e-38),\n",
       "        (        nan,        nan,       nan, 1.6410822e-38)],\n",
       "       [(        nan,        nan,       nan, 1.6410822e-38),\n",
       "        (        nan,        nan,       nan, 1.6410822e-38),\n",
       "        (        nan,        nan,       nan, 1.6410822e-38), ...,\n",
       "        (        nan,        nan,       nan, 1.6410822e-38),\n",
       "        (        nan,        nan,       nan, 1.6410822e-38),\n",
       "        (        nan,        nan,       nan, 1.6410822e-38)],\n",
       "       [(        nan,        nan,       nan, 1.6410822e-38),\n",
       "        (        nan,        nan,       nan, 1.6410822e-38),\n",
       "        (        nan,        nan,       nan, 1.6410822e-38), ...,\n",
       "        (        nan,        nan,       nan, 1.6410822e-38),\n",
       "        (        nan,        nan,       nan, 1.6410822e-38),\n",
       "        (        nan,        nan,       nan, 1.6410822e-38)],\n",
       "       ...,\n",
       "       [(-1.3170028 , 0.9789927 , 2.2852068, 1.7318292e-38),\n",
       "        (-1.3128804 , 0.97899246, 2.2852063, 1.7410487e-38),\n",
       "        (-1.308758  , 0.9789923 , 2.2852058, 1.7502683e-38), ...,\n",
       "        ( 0.6417458 , 0.48004606, 1.1205442, 1.8531322e-38),\n",
       "        ( 0.6413534 , 0.47824627, 1.116343 , 1.8531322e-38),\n",
       "        ( 0.6409639 , 0.47645986, 1.1121731, 1.8531322e-38)],\n",
       "       [(-1.3114828 , 0.9789942 , 2.2756288, 1.7410487e-38),\n",
       "        (-1.3073777 , 0.978994  , 2.2756283, 1.7502683e-38),\n",
       "        (-1.3032727 , 0.97899383, 2.2756279, 1.7503043e-38), ...,\n",
       "        ( 0.6417458 , 0.48206732, 1.1205442, 1.8531322e-38),\n",
       "        ( 0.64135337, 0.4802599 , 1.1163429, 1.8531322e-38),\n",
       "        ( 0.6409639 , 0.478466  , 1.1121731, 1.8531322e-38)],\n",
       "       [(-1.3060089 , 0.97899574, 2.2661307, 1.7502684e-38),\n",
       "        (-1.301921  , 0.9789955 , 2.2661302, 1.7594880e-38),\n",
       "        (-1.297833  , 0.9789953 , 2.2661297, 1.7594880e-38), ...,\n",
       "        ( 0.6417457 , 0.48408848, 1.120544 , 1.8531322e-38),\n",
       "        ( 0.6413533 , 0.48227352, 1.1163428, 1.8531322e-38),\n",
       "        ( 0.64096373, 0.48047206, 1.1121728, 1.8531322e-38)]],\n",
       "      dtype={'names':['x','y','z','rgb'], 'formats':['<f4','<f4','<f4','<f4'], 'offsets':[0,4,8,16], 'itemsize':32})"
      ]
     },
     "execution_count": 12,
     "metadata": {},
     "output_type": "execute_result"
    }
   ],
   "source": [
    "rgbd.get_points()"
   ]
  },
  {
   "cell_type": "code",
   "execution_count": null,
   "metadata": {
    "id": "PXVM7LtfQQVc"
   },
   "outputs": [],
   "source": [
    "%matplotlib inline\n",
    "\n",
    "import matplotlib.pyplot as plt"
   ]
  },
  {
   "cell_type": "markdown",
   "metadata": {
    "id": "exfNPFKmQQVc",
    "lang": "ja"
   },
   "source": [
    "Despleguemos algunas de las imágenes que obtuvimos. usando matplotlib"
   ]
  },
  {
   "cell_type": "code",
   "execution_count": null,
   "metadata": {
    "id": "Png_yfLWQQVc"
   },
   "outputs": [],
   "source": [
    "image=rgbd.get_image()\n",
    "plt.imshow(image)"
   ]
  },
  {
   "cell_type": "code",
   "execution_count": null,
   "metadata": {
    "id": "AVdDcKlshU6g"
   },
   "outputs": [],
   "source": [
    "image=rgbd.get_image()\n",
    "plt.imshow(image)"
   ]
  },
  {
   "cell_type": "code",
   "execution_count": null,
   "metadata": {
    "id": "QyQ-vwSthU6l"
   },
   "outputs": [],
   "source": []
  },
  {
   "cell_type": "code",
   "execution_count": null,
   "metadata": {
    "id": "PVyD8bwXQQVd"
   },
   "outputs": [],
   "source": [
    "points=rgbd.get_points()\n",
    "plt.imshow(points['x'])  #Información de nube de puntos en una imagen\n",
    "#no es fácil de ver..... \n",
    "# rango dinámico de la \"imágen\""
   ]
  },
  {
   "cell_type": "code",
   "execution_count": null,
   "metadata": {
    "id": "C6wNTkEQQQVd"
   },
   "outputs": [],
   "source": [
    "points=rgbd.get_points()\n",
    "plt.imshow(points['y'])  #Información de nube de puntos en una imagen\n",
    "#no es fácil de ver..... \n",
    "# rango dinámico de la \"imágen\""
   ]
  },
  {
   "cell_type": "code",
   "execution_count": null,
   "metadata": {
    "id": "j3UBr-mDQQVd"
   },
   "outputs": [],
   "source": [
    "points=rgbd.get_points()\n",
    "plt.imshow(points['z'])  #Información de nube de puntos en una imagen\n",
    "#no es fácil de ver..... \n",
    "# rango dinámico de la \"imágen\""
   ]
  },
  {
   "cell_type": "markdown",
   "metadata": {
    "id": "1xTvNG8nQQVd"
   },
   "source": [
    "Sugerencia, utilizar un mapa de colores para hacer más sentido de lo que se despliega. Por ejemplo "
   ]
  },
  {
   "cell_type": "code",
   "execution_count": null,
   "metadata": {
    "id": "Xy_FItSjQQVd"
   },
   "outputs": [],
   "source": [
    "points=rgbd.get_points()\n",
    "\n",
    "plt.imshow(points['z'],cmap='prism') #color sintético para apreciar "
   ]
  },
  {
   "cell_type": "markdown",
   "metadata": {
    "id": "1-f_BT88QQVe",
    "lang": "en"
   },
   "source": []
  },
  {
   "cell_type": "markdown",
   "metadata": {
    "id": "ZkCHWSzeQQVe",
    "lang": "en"
   },
   "source": [
    "A continuación se utiliza el algortimo SHI TOMASI para extrer \"esquinas\" de la imagen. Una posible solución al reto anterior, y un buen \"extractor de características en la imagen\""
   ]
  },
  {
   "cell_type": "code",
   "execution_count": null,
   "metadata": {
    "id": "7ZluR9eZhU7E"
   },
   "outputs": [],
   "source": [
    "import cv2"
   ]
  },
  {
   "cell_type": "code",
   "execution_count": null,
   "metadata": {
    "id": "aMNzolwNQQVe",
    "lang": "ja"
   },
   "outputs": [],
   "source": [
    "gray = cv2.cvtColor(image,cv2.COLOR_BGR2GRAY)\n",
    "radius = 4\n",
    "num_corners=100\n",
    "corners=cv2.goodFeaturesToTrack(gray,num_corners,.01,10)\n",
    "for i in range(corners.shape[0]):\n",
    "    \n",
    "    #cv2.circle()\n",
    "    cv2.circle(gray, ((int)(corners[i,0,0]), (int)(corners[i,0,1])), radius, (255,255,255), cv2.FILLED)\n",
    "plt.imshow(gray)"
   ]
  },
  {
   "cell_type": "markdown",
   "metadata": {
    "id": "24zFUZu4QQVe",
    "lang": "ja"
   },
   "source": [
    "TAREA:Mueva al robot y compare el vector de caracterisiticas \"corners\" compuesto de las 100 \"más\" esquinas obtenido del ejemplo anterior \n",
    "\n",
    "Busque y compare al menos un algortimo más dentro de la librería opencv\n",
    "\n",
    "Encuentre líneas,  encuentre objetos de un color específico\n"
   ]
  },
  {
   "cell_type": "markdown",
   "metadata": {
    "id": "FM2IwSJIhU7h"
   },
   "source": [
    "##Prueba anterior, busquemos como se vería un cubo en el ejemplo shi tomasi\n",
    "### "
   ]
  },
  {
   "cell_type": "markdown",
   "metadata": {
    "id": "RoZ2-HOOQQVi"
   },
   "source": [
    "PRUEBA: EL robot (que siempre parte de la misma posición inicial) debe ir y venir a alguno de los cubos del mapa. \n",
    "Puntos Penalización:\n",
    "\n",
    "Coalisiones de cualquier tipo contribuyen a +3 sec. del recorrido total\n",
    "\n",
    "Al final el equipo que más se acerque (sin chocar al cubo ) \"primer distancia\"\n",
    "y después al punto de partida  \"segunda distancia\"  en el menor tiempo gana.\n",
    "\n",
    "\n",
    "\n",
    "puntos extra: -30 segundos del tiempo total.\n",
    "El robot debe proveer pruebas de qe encontró un objeto con las características de un cubo \n",
    "sugerencia, capturar en una variable \"prueba_de_cubo\" las lecturas del sensor laser.\n",
    "\n",
    "La presencia de una esquina de 90 grados podría ser una excelente forma de encontrar cubos \n",
    "\n"
   ]
  },
  {
   "cell_type": "code",
   "execution_count": null,
   "metadata": {
    "id": "L9BBVlmIQQVi"
   },
   "outputs": [],
   "source": [
    "def get_100_corners(image):\n",
    "    gray = cv2.cvtColor(image,cv2.COLOR_BGR2GRAY)\n",
    "    radius = 4\n",
    "    num_corners=100\n",
    "    corners=cv2.goodFeaturesToTrack(gray,num_corners,.01,10)\n",
    "    for i in range(corners.shape[0]):\n",
    "\n",
    "        #cv2.circle()\n",
    "        cv2.circle(gray, ((int)(corners[i,0,0]), (int)(corners[i,0,1])), radius, (255,255,255), cv2.FILLED)\n",
    "    return(gray)"
   ]
  },
  {
   "cell_type": "code",
   "execution_count": null,
   "metadata": {
    "id": "95-G1axPhU7w"
   },
   "outputs": [],
   "source": [
    "image=rgbd.get_image()\n",
    "corners_displayed= get_100_corners(image)\n",
    "plt.imshow(corners_displayed)"
   ]
  },
  {
   "cell_type": "code",
   "execution_count": null,
   "metadata": {
    "id": "wJqnv0FQhU75"
   },
   "outputs": [],
   "source": [
    "plt.imshow(rgbd.get_image())"
   ]
  },
  {
   "cell_type": "code",
   "execution_count": null,
   "metadata": {
    "id": "BqoVN0PghU79"
   },
   "outputs": [],
   "source": [
    "## Prueba:: "
   ]
  }
 ],
 "metadata": {
  "colab": {
   "collapsed_sections": [
    "B1jN0hJ5QQVf",
    "AIior_xSQQVf"
   ],
   "provenance": []
  },
  "kernelspec": {
   "display_name": "Python 2",
   "language": "python",
   "name": "python2"
  },
  "language_info": {
   "codemirror_mode": {
    "name": "ipython",
    "version": 2
   },
   "file_extension": ".py",
   "mimetype": "text/x-python",
   "name": "python",
   "nbconvert_exporter": "python",
   "pygments_lexer": "ipython2",
   "version": "2.7.17"
  },
  "nbTranslate": {
   "displayLangs": [
    "ja",
    "en"
   ],
   "hotkey": "alt-t",
   "langInMainMenu": true,
   "sourceLang": "ja",
   "targetLang": "en",
   "useGoogleTranslate": true
  },
  "toc": {
   "base_numbering": 1,
   "nav_menu": {},
   "number_sections": true,
   "sideBar": true,
   "skip_h1_title": false,
   "title_cell": "Table of Contents",
   "title_sidebar": "Contents",
   "toc_cell": false,
   "toc_position": {},
   "toc_section_display": true,
   "toc_window_display": true
  }
 },
 "nbformat": 4,
 "nbformat_minor": 1
}
