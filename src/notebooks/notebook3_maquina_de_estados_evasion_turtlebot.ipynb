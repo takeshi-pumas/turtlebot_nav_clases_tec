{
 "cells": [
  {
   "cell_type": "markdown",
   "metadata": {
    "id": "G-effaRbQQVR",
    "lang": "ja"
   },
   "source": [
    "\n",
    "\n",
    "\n",
    "\n",
    "\n",
    "\n",
    "\n",
    "\n",
    "\n",
    "\n",
    "\n",
    "\n",
    "\n",
    "\n",
    "\n",
    "\n",
    "\n",
    "\n",
    "\n",
    "\n",
    "\n",
    "\n",
    "\n",
    "\n",
    "\n",
    "\n",
    "\n",
    "\n",
    "\n",
    "\n",
    "\n",
    "\n",
    "\n",
    "\n",
    "\n",
    "\n",
    "\n",
    "\n",
    "\n",
    "\n",
    "\n",
    "\n",
    "\n",
    "\n",
    "\n",
    "\n",
    "\n",
    "\n",
    "\n",
    "\n",
    "\n",
    "\n",
    "\n",
    "\n",
    "\n",
    "\n",
    "\n",
    "\n",
    "\n",
    "\n",
    "\n",
    "\n",
    "\n",
    "\n",
    "\n",
    "\n",
    "\n",
    "\n",
    "\n",
    "\n",
    "\n",
    "\n",
    "\n",
    "\n",
    "\n",
    "\n",
    "\n",
    "\n",
    "\n",
    "\n",
    "\n",
    "\n",
    "\n",
    "\n",
    "\n",
    "\n",
    "\n",
    "\n",
    "\n",
    "\n",
    "\n",
    "\n",
    "\n",
    "\n",
    "\n",
    "\n",
    "\n",
    "\n",
    "\n",
    "\n",
    "\n",
    "\n",
    "\n",
    "\n",
    "\n",
    "\n",
    "\n",
    "\n",
    "\n",
    "\n",
    "\n",
    "\n",
    "\n",
    "\n",
    "\n",
    "\n",
    "\n",
    "\n",
    "\n",
    "\n",
    "\n",
    "\n",
    "\n",
    "\n",
    "\n",
    "\n",
    "\n",
    "\n",
    "\n",
    "\n",
    "\n",
    "\n",
    "\n",
    "\n",
    "\n",
    "\n",
    "\n",
    "\n",
    "\n",
    "\n",
    "\n",
    "\n",
    "\n",
    "\n",
    "\n",
    "\n",
    "\n",
    "\n",
    "\n",
    "\n",
    "\n",
    "\n",
    "\n",
    "\n",
    "\n",
    "\n",
    "\n",
    "\n",
    "\n",
    "\n",
    "\n",
    "\n",
    "\n",
    "\n",
    "\n",
    "\n",
    "\n",
    "\n",
    "\n",
    "\n",
    "\n",
    "\n",
    "\n",
    "\n",
    "\n",
    "\n",
    "\n",
    "\n",
    "\n",
    "\n",
    "\n",
    "\n",
    "\n",
    "\n",
    "\n",
    "\n",
    "\n",
    "\n",
    "\n",
    "\n",
    "\n",
    "\n",
    "\n",
    "\n",
    "\n",
    "\n",
    "\n",
    "\n",
    "\n",
    "\n",
    "\n",
    "\n",
    "\n",
    "\n",
    "\n",
    "\n",
    "\n",
    "\n",
    "\n",
    "\n",
    "\n",
    "\n",
    "\n",
    "\n",
    "\n",
    "\n",
    "\n",
    "\n",
    "\n",
    "\n",
    "\n",
    "\n",
    "\n",
    "\n",
    "\n",
    "\n",
    "\n",
    "\n",
    "\n",
    "\n",
    "\n",
    "\n",
    "\n",
    "\n",
    "\n",
    "\n",
    "\n",
    "\n",
    "\n",
    "\n",
    "\n",
    "\n",
    "\n",
    "\n",
    "\n",
    "\n",
    "\n",
    "\n",
    "\n",
    "\n",
    "\n",
    "\n",
    "\n",
    "\n",
    "\n",
    "Notebooks adaptados y traducidos a partir de los tutoriales de código abierto \n",
    "utilizados en las competencias virtuales de los últimos 2 años\n",
    "Yamamoto, T., Terada, K., Ochiai, A. et al. Development of Human Support Robot as the research platform of a domestic mobile manipulator. Robomech J 6, 4 (2019). https://doi.org/10.1186/s40648-019-0132-3\n",
    "\n",
    "Por favor Consulte los originales en inglés y Japonés en https://github.com/hsr-project/hsrb_robocup_dspl_docker\n"
   ]
  },
  {
   "cell_type": "markdown",
   "metadata": {
    "id": "SkYzVnYvQQVU"
   },
   "source": [
    "Adaptado al español por Laboratorio BioRobótica UNAM\n",
    "Oscar Fuentes\n"
   ]
  },
  {
   "cell_type": "markdown",
   "metadata": {
    "id": "i3VC8-3OQQVV",
    "lang": "en"
   },
   "source": [
    "Para correr este notebook debe tenerse familiaridad con términos de ROS como tópicos, listeners, publishers, mensajes etc.\n"
   ]
  },
  {
   "cell_type": "markdown",
   "metadata": {
    "id": "537iglBRQQVV"
   },
   "source": [
    "En este notebook una simple maquina de estados para evasión de obstáculos"
   ]
  },
  {
   "cell_type": "code",
   "execution_count": 1,
   "metadata": {
    "colab": {
     "base_uri": "https://localhost:8080/",
     "height": 373
    },
    "executionInfo": {
     "elapsed": 5,
     "status": "error",
     "timestamp": 1660322029653,
     "user": {
      "displayName": "David Cortez Saravia",
      "userId": "02830473669231744653"
     },
     "user_tz": 300
    },
    "id": "7rqs0esnQQVW",
    "outputId": "c96a8197-a5e3-4f05-d293-99413f83314c"
   },
   "outputs": [],
   "source": [
    "# Se importan las librerias necesarias\n",
    "import math\n",
    "import numpy as np\n",
    "import rospy\n",
    "import time\n",
    "from sensor_msgs.msg import LaserScan\n",
    "from geometry_msgs.msg import Twist\n"
   ]
  },
  {
   "cell_type": "code",
   "execution_count": 2,
   "metadata": {
    "id": "aZBg-rpqQQVX"
   },
   "outputs": [],
   "source": [
    "# A collection of conversion function for extracting numpy arrays from messages. http://wiki.ros.org/ros_numpy\n",
    "import ros_numpy\n",
    "\n",
    "\n"
   ]
  },
  {
   "cell_type": "markdown",
   "metadata": {
    "id": "J70VdkIIQQVX"
   },
   "source": []
  },
  {
   "cell_type": "markdown",
   "metadata": {
    "id": "04A8El2KQQVX"
   },
   "source": []
  },
  {
   "cell_type": "markdown",
   "metadata": {
    "id": "Xzfar2zPQQVY"
   },
   "source": []
  },
  {
   "cell_type": "code",
   "execution_count": 3,
   "metadata": {
    "id": "26rXLbPdQQVY"
   },
   "outputs": [
    {
     "name": "stdout",
     "output_type": "stream",
     "text": [
      "alive\n"
     ]
    }
   ],
   "source": [
    "print ('alive')"
   ]
  },
  {
   "cell_type": "code",
   "execution_count": null,
   "metadata": {
    "id": "QOvwWN4AQQVZ"
   },
   "outputs": [],
   "source": []
  },
  {
   "cell_type": "code",
   "execution_count": null,
   "metadata": {
    "id": "xWDuy-EzQQVZ"
   },
   "outputs": [],
   "source": []
  },
  {
   "cell_type": "code",
   "execution_count": 4,
   "metadata": {
    "id": "JYHLUK94QQVa"
   },
   "outputs": [],
   "source": [
    "# Iniciamos el nodo y se define el publisher de la velocidad a la que se movera la base del robot... Mensaje tipo twist\n",
    "rospy.init_node('evasion_notebook_node') \n",
    "base_vel_pub = rospy.Publisher('/cmd_vel', Twist, queue_size=10)"
   ]
  },
  {
   "cell_type": "markdown",
   "metadata": {
    "id": "xd2pCj-mQQVa"
   },
   "source": [
    "Nos valdremos de nuestra vieja función de movimiento, asi como la clase Laser para obtener las lecturas del sensor (revisar notebook 1)"
   ]
  },
  {
   "cell_type": "code",
   "execution_count": 5,
   "metadata": {
    "id": "cqJfkquIQQVa"
   },
   "outputs": [],
   "source": [
    "def move_base_vel(vx, vy, vw):\n",
    "    twist = Twist()\n",
    "    twist.linear.x = vx\n",
    "    twist.linear.y = vy\n",
    "    twist.angular.z = vw \n",
    "    base_vel_pub.publish(twist)\n",
    "\n",
    "def move_base(x,y,yaw,timeout=5):\n",
    "    start_time = rospy.Time.now().to_sec()\n",
    "    while rospy.Time.now().to_sec() - start_time < timeout:  \n",
    "        move_base_vel(x, y, yaw)    "
   ]
  },
  {
   "cell_type": "markdown",
   "metadata": {
    "id": "C6g0uYGL5lY_"
   },
   "source": [
    "(state_machine.png \"Maquina de estados\")"
   ]
  },
  {
   "cell_type": "markdown",
   "metadata": {
    "id": "-_Z7_sQy1WeF"
   },
   "source": [
    "Se definen las funciones ahora para mover al robot hacia adelante, hacia atras, giro a la izquierda \n",
    "y giro a la derecha, donde se indica una distancia y un angulo de rotacion fijo"
   ]
  },
  {
   "cell_type": "code",
   "execution_count": 30,
   "metadata": {
    "id": "wPNMCLdeQQVb"
   },
   "outputs": [],
   "source": [
    "def move_forward():\n",
    "    move_base(0.15,0,0,1.0)\n",
    "    stop()    \n",
    "def move_backward():\n",
    "    move_base(-0.15,0,0,0.5)\n",
    "    stop()              \n",
    "def turn_left():\n",
    "    move_base(0.0,0,0.25*np.pi,2)\n",
    "    stop()    \n",
    "def turn_right():\n",
    "    move_base(0.0,0,-0.25*np.pi,2)\n",
    "    stop()    \n",
    "def stop():\n",
    "    move_base(0,0,0,0.1)"
   ]
  },
  {
   "cell_type": "markdown",
   "metadata": {
    "id": "c6vMIr831WeG"
   },
   "source": [
    "probamos nuestras funciones"
   ]
  },
  {
   "cell_type": "code",
   "execution_count": 31,
   "metadata": {
    "id": "jxnHqrA05lZA"
   },
   "outputs": [],
   "source": [
    "move_forward()"
   ]
  },
  {
   "cell_type": "code",
   "execution_count": 32,
   "metadata": {},
   "outputs": [],
   "source": [
    "stop()"
   ]
  },
  {
   "cell_type": "code",
   "execution_count": 33,
   "metadata": {
    "id": "c2AJbviS5lZA"
   },
   "outputs": [],
   "source": [
    "move_backward()"
   ]
  },
  {
   "cell_type": "code",
   "execution_count": null,
   "metadata": {},
   "outputs": [],
   "source": []
  },
  {
   "cell_type": "code",
   "execution_count": 34,
   "metadata": {
    "id": "h59QIuwe5lZA"
   },
   "outputs": [],
   "source": [
    "turn_right()"
   ]
  },
  {
   "cell_type": "markdown",
   "metadata": {
    "id": "sLEAka9n1WeI"
   },
   "source": [
    "se define la clase Laser, en la cual se lee la informacion del sensor, para esto se suscribe al topico ('/scan')"
   ]
  },
  {
   "cell_type": "code",
   "execution_count": 35,
   "metadata": {
    "id": "-6913Nhy5lZA"
   },
   "outputs": [],
   "source": [
    "from sensor_msgs.msg import LaserScan\n",
    "\n",
    "class Laser():\n",
    "    u\"\"\"Class that handles laser information\"\"\"\n",
    "\n",
    "    def __init__(self):\n",
    "        # Register the _laser_cb method as a callback to the laser scan topic events\n",
    "        self._laser_sub = rospy.Subscriber ('/scan',\n",
    "                                           LaserScan, self._laser_cb)\n",
    "        self._scan_data = None\n",
    "\n",
    "    def _laser_cb (self, msg):\n",
    "        # Laser scan callback function\n",
    "        self._scan_data = msg\n",
    "\n",
    "    def get_data(self):\n",
    "        u\"\"\"Function to get the laser value\"\"\"\n",
    "        return self._scan_data"
   ]
  },
  {
   "cell_type": "code",
   "execution_count": 36,
   "metadata": {
    "id": "4BXtgJqK5lZB"
   },
   "outputs": [],
   "source": [
    "laser = Laser()  #instanciamos una clase "
   ]
  },
  {
   "cell_type": "code",
   "execution_count": 37,
   "metadata": {
    "id": "hmg_Wp575lZB",
    "outputId": "5de3e6a4-badc-4e2a-ed95-c8c5206fbeb4"
   },
   "outputs": [],
   "source": [
    "lectura=laser.get_data()\n",
    "lectura\n",
    "#len(lectura.ranges)/2"
   ]
  },
  {
   "cell_type": "markdown",
   "metadata": {
    "id": "2xmjLRa-1WeL"
   },
   "source": [
    "la siguiente funcion cuantiza los valores obtenidos por el sensor, retornando el valor de si que corresponde al sensor izquierdo\n",
    "y sd para el derecho, un valor de cero si hay un obstaculo y de uno si se considera que no lo hay."
   ]
  },
  {
   "cell_type": "code",
   "execution_count": 40,
   "metadata": {
    "id": "R547AhVX5lZC"
   },
   "outputs": [],
   "source": [
    "def get_lectura_cuant():\n",
    "    lectura=np.asarray(laser.get_data().ranges) # convierte la info en arreglo numpy\n",
    "    lectura=np.where(lectura>5,5,lectura) #remove infinito\n",
    "\n",
    "    right_scan=lectura[int(3*len(lectura)/4):]   # discrimina por direccion\n",
    "    left_scan=lectura[:int(len(lectura)/4)]\n",
    "    front_scan=lectura[:30]\n",
    "\n",
    "    sd,si=0,0\n",
    "    if np.mean(left_scan)< 2.5: si=1 # promedia valores y cuantiza\n",
    "    if np.mean(right_scan)< 2.5: sd=1\n",
    "    print (np.mean(left_scan),np.mean(right_scan))\n",
    "    return si,sd\n"
   ]
  },
  {
   "cell_type": "code",
   "execution_count": 41,
   "metadata": {
    "id": "ypXam3AC5lZC"
   },
   "outputs": [
    {
     "name": "stdout",
     "output_type": "stream",
     "text": [
      "2.944876692361302 3.653323533799913\n"
     ]
    },
    {
     "data": {
      "text/plain": [
       "(0, 0)"
      ]
     },
     "execution_count": 41,
     "metadata": {},
     "output_type": "execute_result"
    }
   ],
   "source": [
    "si,sd=get_lectura_cuant()  # probamos la funcion\n",
    "si,sd"
   ]
  },
  {
   "cell_type": "code",
   "execution_count": null,
   "metadata": {},
   "outputs": [],
   "source": []
  },
  {
   "cell_type": "code",
   "execution_count": null,
   "metadata": {},
   "outputs": [],
   "source": []
  },
  {
   "cell_type": "code",
   "execution_count": null,
   "metadata": {},
   "outputs": [],
   "source": []
  },
  {
   "cell_type": "code",
   "execution_count": 42,
   "metadata": {},
   "outputs": [
    {
     "name": "stdout",
     "output_type": "stream",
     "text": [
      "2.9447436577743953 3.653478826416863\n"
     ]
    },
    {
     "data": {
      "text/plain": [
       "(0, 0)"
      ]
     },
     "execution_count": 42,
     "metadata": {},
     "output_type": "execute_result"
    }
   ],
   "source": [
    "si,sd=get_lectura_cuant()\n",
    "si,sd"
   ]
  },
  {
   "cell_type": "markdown",
   "metadata": {
    "id": "wNx9xrWj5lZC"
   },
   "source": [
    "A partir de aqui se define la maquina de estados"
   ]
  },
  {
   "cell_type": "code",
   "execution_count": 43,
   "metadata": {
    "id": "6c2iX1U85lZC",
    "outputId": "08301224-f941-4ce2-f90f-f8a0fa68fc3a"
   },
   "outputs": [
    {
     "name": "stdout",
     "output_type": "stream",
     "text": [
      "0 s_0 0 0\n"
     ]
    }
   ],
   "source": [
    "next_state= 's_0'\n",
    "i=0\n",
    "print (i, next_state, si, sd)"
   ]
  },
  {
   "cell_type": "code",
   "execution_count": 44,
   "metadata": {
    "id": "4auWTRBP5lZC",
    "outputId": "8dfb7b6f-3bac-41a4-a33d-34058d08512d"
   },
   "outputs": [
    {
     "name": "stdout",
     "output_type": "stream",
     "text": [
      "step 0 next  s_0 sensor izq 0 sensor der 0\n",
      "im in state  s_0\n",
      "2.927733181582557 3.654413170284695\n",
      "step 1 next  s_0 sensor izq 0 sensor der 0\n",
      "im in state  s_0\n",
      "3.2179721266031267 3.8154828733868067\n",
      "step 2 next  s_0 sensor izq 0 sensor der 0\n",
      "im in state  s_0\n",
      "3.3588988953166536 3.9876050657696194\n",
      "step 3 next  s_0 sensor izq 0 sensor der 0\n",
      "im in state  s_0\n",
      "3.252286203702291 4.065289950370788\n",
      "step 4 next  s_0 sensor izq 0 sensor der 0\n",
      "im in state  s_0\n",
      "3.2416010869873895 4.237916254997254\n",
      "step 5 next  s_0 sensor izq 0 sensor der 0\n",
      "im in state  s_0\n",
      "3.32338787317276 4.295243244700962\n",
      "step 6 next  s_0 sensor izq 0 sensor der 0\n",
      "im in state  s_0\n",
      "3.4421932564841375 4.425867071416643\n",
      "step 7 next  s_0 sensor izq 0 sensor der 0\n",
      "im in state  s_0\n",
      "2.811941831641727 3.9197223862012227\n",
      "step 8 next  s_0 sensor izq 0 sensor der 0\n",
      "im in state  s_0\n",
      "2.773114589187834 3.877746084001329\n",
      "step 9 next  s_0 sensor izq 0 sensor der 0\n",
      "im in state  s_0\n",
      "2.6313826587465075 3.833159073856142\n",
      "step 10 next  s_0 sensor izq 0 sensor der 0\n",
      "im in state  s_0\n",
      "2.355570673942566 3.682427540090349\n",
      "step 11 next  s_3 sensor izq 1 sensor der 0\n",
      "im in state 3\n",
      "step 12 next  s_4 sensor izq 1 sensor der 0\n",
      "im in state 4\n",
      "step 13 next  s_0 sensor izq 1 sensor der 0\n",
      "im in state  s_0\n",
      "2.6390195035272175 3.431490621301863\n",
      "step 14 next  s_0 sensor izq 0 sensor der 0\n",
      "im in state  s_0\n",
      "3.093483554985788 3.339495367474026\n",
      "step 15 next  s_0 sensor izq 0 sensor der 0\n",
      "im in state  s_0\n",
      "3.8493126488394207 3.186993357870314\n",
      "step 16 next  s_0 sensor izq 0 sensor der 0\n",
      "im in state  s_0\n",
      "4.601245005594359 3.0653096503681607\n",
      "step 17 next  s_0 sensor izq 0 sensor der 0\n",
      "im in state  s_0\n",
      "5.0 2.8681775053342182\n",
      "step 18 next  s_0 sensor izq 0 sensor der 0\n",
      "im in state  s_0\n",
      "5.0 2.7028167565663654\n",
      "step 19 next  s_0 sensor izq 0 sensor der 0\n",
      "im in state  s_0\n",
      "5.0 2.5174147884051004\n",
      "step 20 next  s_0 sensor izq 0 sensor der 0\n",
      "im in state  s_0\n",
      "5.0 2.2756910814179316\n",
      "step 21 next  s_1 sensor izq 0 sensor der 1\n",
      "im in state 1\n",
      "step 22 next  s_2 sensor izq 0 sensor der 1\n",
      "im in state 2\n",
      "step 23 next  s_0 sensor izq 0 sensor der 1\n",
      "im in state  s_0\n",
      "2.8793478767077128 4.74515206416448\n",
      "step 24 next  s_0 sensor izq 0 sensor der 0\n",
      "im in state  s_0\n",
      "0.7656048787964715 4.518331410487493\n",
      "step 25 next  s_3 sensor izq 1 sensor der 0\n",
      "im in state 3\n",
      "step 26 next  s_4 sensor izq 1 sensor der 0\n",
      "im in state 4\n",
      "step 27 next  s_0 sensor izq 1 sensor der 0\n",
      "im in state  s_0\n",
      "3.8761543899774553 2.226369223329756\n",
      "step 28 next  s_1 sensor izq 0 sensor der 1\n",
      "im in state 1\n",
      "step 29 next  s_2 sensor izq 0 sensor der 1\n",
      "im in state 2\n",
      "step 30 next  s_0 sensor izq 0 sensor der 1\n",
      "im in state  s_0\n",
      "1.5280348625448015 4.81717986398273\n",
      "step 31 next  s_3 sensor izq 1 sensor der 0\n",
      "im in state 3\n",
      "step 32 next  s_4 sensor izq 1 sensor der 0\n",
      "im in state 4\n",
      "step 33 next  s_0 sensor izq 1 sensor der 0\n",
      "im in state  s_0\n",
      "5.0 2.2216230471928915\n",
      "step 34 next  s_1 sensor izq 0 sensor der 1\n",
      "im in state 1\n",
      "step 35 next  s_2 sensor izq 0 sensor der 1\n",
      "im in state 2\n",
      "step 36 next  s_0 sensor izq 0 sensor der 1\n",
      "im in state  s_0\n",
      "2.660452272825771 5.0\n",
      "step 37 next  s_0 sensor izq 0 sensor der 0\n",
      "im in state  s_0\n",
      "2.2487226055728065 5.0\n",
      "step 38 next  s_3 sensor izq 1 sensor der 0\n",
      "im in state 3\n",
      "step 39 next  s_4 sensor izq 1 sensor der 0\n",
      "im in state 4\n",
      "step 40 next  s_0 sensor izq 1 sensor der 0\n",
      "im in state  s_0\n",
      "5.0 2.4106013933817545\n",
      "step 41 next  s_1 sensor izq 0 sensor der 1\n",
      "im in state 1\n",
      "step 42 next  s_2 sensor izq 0 sensor der 1\n",
      "im in state 2\n",
      "step 43 next  s_0 sensor izq 0 sensor der 1\n",
      "im in state  s_0\n",
      "2.8216093103090922 5.0\n",
      "step 44 next  s_0 sensor izq 0 sensor der 0\n",
      "im in state  s_0\n",
      "3.1358166284031337 5.0\n",
      "step 45 next  s_0 sensor izq 0 sensor der 0\n",
      "im in state  s_0\n",
      "3.548229873842663 5.0\n",
      "step 46 next  s_0 sensor izq 0 sensor der 0\n",
      "im in state  s_0\n",
      "3.7037501944435967 5.0\n",
      "step 47 next  s_0 sensor izq 0 sensor der 0\n",
      "im in state  s_0\n",
      "3.922841540972392 5.0\n",
      "step 48 next  s_0 sensor izq 0 sensor der 0\n",
      "im in state  s_0\n",
      "4.039841485023499 5.0\n",
      "step 49 next  s_0 sensor izq 0 sensor der 0\n",
      "im in state  s_0\n",
      "4.2220254215929245 5.0\n",
      "step 50 next  s_0 sensor izq 0 sensor der 0\n",
      "im in state  s_0\n",
      "4.320388588640425 5.0\n",
      "step 51 next  s_0 sensor izq 0 sensor der 0\n",
      "im in state  s_0\n",
      "4.391456654336717 5.0\n",
      "step 52 next  s_0 sensor izq 0 sensor der 0\n",
      "im in state  s_0\n",
      "4.528644739256965 5.0\n"
     ]
    },
    {
     "ename": "KeyboardInterrupt",
     "evalue": "",
     "output_type": "error",
     "traceback": [
      "\u001b[0;31m---------------------------------------------------------------------------\u001b[0m",
      "\u001b[0;31mKeyboardInterrupt\u001b[0m                         Traceback (most recent call last)",
      "Cell \u001b[0;32mIn[44], line 14\u001b[0m\n\u001b[1;32m     12\u001b[0m     \u001b[38;5;28;01mif\u001b[39;00m (si\u001b[38;5;241m==\u001b[39m\u001b[38;5;241m1\u001b[39m \u001b[38;5;129;01mand\u001b[39;00m sd\u001b[38;5;241m==\u001b[39m\u001b[38;5;241m1\u001b[39m): next_state\u001b[38;5;241m=\u001b[39m\u001b[38;5;124m'\u001b[39m\u001b[38;5;124ms_5\u001b[39m\u001b[38;5;124m'\u001b[39m\n\u001b[1;32m     13\u001b[0m     \u001b[38;5;66;03m#####Accion\u001b[39;00m\n\u001b[0;32m---> 14\u001b[0m     \u001b[43mmove_forward\u001b[49m\u001b[43m(\u001b[49m\u001b[43m)\u001b[49m\n\u001b[1;32m     19\u001b[0m \u001b[38;5;28;01melif\u001b[39;00m next_state\u001b[38;5;241m==\u001b[39m \u001b[38;5;124m'\u001b[39m\u001b[38;5;124ms_1\u001b[39m\u001b[38;5;124m'\u001b[39m:\n\u001b[1;32m     20\u001b[0m     \u001b[38;5;28mprint\u001b[39m (\u001b[38;5;124m'\u001b[39m\u001b[38;5;124mim in state 1\u001b[39m\u001b[38;5;124m'\u001b[39m)\n",
      "Cell \u001b[0;32mIn[30], line 2\u001b[0m, in \u001b[0;36mmove_forward\u001b[0;34m()\u001b[0m\n\u001b[1;32m      1\u001b[0m \u001b[38;5;28;01mdef\u001b[39;00m \u001b[38;5;21mmove_forward\u001b[39m():\n\u001b[0;32m----> 2\u001b[0m     \u001b[43mmove_base\u001b[49m\u001b[43m(\u001b[49m\u001b[38;5;241;43m0.15\u001b[39;49m\u001b[43m,\u001b[49m\u001b[38;5;241;43m0\u001b[39;49m\u001b[43m,\u001b[49m\u001b[38;5;241;43m0\u001b[39;49m\u001b[43m,\u001b[49m\u001b[38;5;241;43m1.0\u001b[39;49m\u001b[43m)\u001b[49m\n\u001b[1;32m      3\u001b[0m     stop()\n",
      "Cell \u001b[0;32mIn[5], line 11\u001b[0m, in \u001b[0;36mmove_base\u001b[0;34m(x, y, yaw, timeout)\u001b[0m\n\u001b[1;32m      9\u001b[0m start_time \u001b[38;5;241m=\u001b[39m rospy\u001b[38;5;241m.\u001b[39mTime\u001b[38;5;241m.\u001b[39mnow()\u001b[38;5;241m.\u001b[39mto_sec()\n\u001b[1;32m     10\u001b[0m \u001b[38;5;28;01mwhile\u001b[39;00m rospy\u001b[38;5;241m.\u001b[39mTime\u001b[38;5;241m.\u001b[39mnow()\u001b[38;5;241m.\u001b[39mto_sec() \u001b[38;5;241m-\u001b[39m start_time \u001b[38;5;241m<\u001b[39m timeout:  \n\u001b[0;32m---> 11\u001b[0m     \u001b[43mmove_base_vel\u001b[49m\u001b[43m(\u001b[49m\u001b[43mx\u001b[49m\u001b[43m,\u001b[49m\u001b[43m \u001b[49m\u001b[43my\u001b[49m\u001b[43m,\u001b[49m\u001b[43m \u001b[49m\u001b[43myaw\u001b[49m\u001b[43m)\u001b[49m\n",
      "Cell \u001b[0;32mIn[5], line 6\u001b[0m, in \u001b[0;36mmove_base_vel\u001b[0;34m(vx, vy, vw)\u001b[0m\n\u001b[1;32m      4\u001b[0m twist\u001b[38;5;241m.\u001b[39mlinear\u001b[38;5;241m.\u001b[39my \u001b[38;5;241m=\u001b[39m vy\n\u001b[1;32m      5\u001b[0m twist\u001b[38;5;241m.\u001b[39mangular\u001b[38;5;241m.\u001b[39mz \u001b[38;5;241m=\u001b[39m vw \n\u001b[0;32m----> 6\u001b[0m \u001b[43mbase_vel_pub\u001b[49m\u001b[38;5;241;43m.\u001b[39;49m\u001b[43mpublish\u001b[49m\u001b[43m(\u001b[49m\u001b[43mtwist\u001b[49m\u001b[43m)\u001b[49m\n",
      "File \u001b[0;32m/opt/ros/noetic/lib/python3/dist-packages/rospy/topics.py:882\u001b[0m, in \u001b[0;36mPublisher.publish\u001b[0;34m(self, *args, **kwds)\u001b[0m\n\u001b[1;32m    880\u001b[0m \u001b[38;5;28;01mtry\u001b[39;00m:\n\u001b[1;32m    881\u001b[0m     \u001b[38;5;28mself\u001b[39m\u001b[38;5;241m.\u001b[39mimpl\u001b[38;5;241m.\u001b[39macquire()\n\u001b[0;32m--> 882\u001b[0m     \u001b[38;5;28;43mself\u001b[39;49m\u001b[38;5;241;43m.\u001b[39;49m\u001b[43mimpl\u001b[49m\u001b[38;5;241;43m.\u001b[39;49m\u001b[43mpublish\u001b[49m\u001b[43m(\u001b[49m\u001b[43mdata\u001b[49m\u001b[43m)\u001b[49m\n\u001b[1;32m    883\u001b[0m \u001b[38;5;28;01mexcept\u001b[39;00m genpy\u001b[38;5;241m.\u001b[39mSerializationError \u001b[38;5;28;01mas\u001b[39;00m e:\n\u001b[1;32m    884\u001b[0m     \u001b[38;5;66;03m# can't go to rospy.logerr(), b/c this could potentially recurse\u001b[39;00m\n\u001b[1;32m    885\u001b[0m     _logger\u001b[38;5;241m.\u001b[39merror(traceback\u001b[38;5;241m.\u001b[39mformat_exc())\n",
      "File \u001b[0;32m/opt/ros/noetic/lib/python3/dist-packages/rospy/topics.py:1075\u001b[0m, in \u001b[0;36m_PublisherImpl.publish\u001b[0;34m(self, message, connection_override)\u001b[0m\n\u001b[1;32m   1073\u001b[0m \u001b[38;5;28;01mtry\u001b[39;00m:\n\u001b[1;32m   1074\u001b[0m     \u001b[38;5;28;01mif\u001b[39;00m \u001b[38;5;129;01mnot\u001b[39;00m is_shutdown():\n\u001b[0;32m-> 1075\u001b[0m         \u001b[43mc\u001b[49m\u001b[38;5;241;43m.\u001b[39;49m\u001b[43mwrite_data\u001b[49m\u001b[43m(\u001b[49m\u001b[43mdata\u001b[49m\u001b[43m)\u001b[49m\n\u001b[1;32m   1076\u001b[0m \u001b[38;5;28;01mexcept\u001b[39;00m TransportTerminated \u001b[38;5;28;01mas\u001b[39;00m e:\n\u001b[1;32m   1077\u001b[0m     logdebug(\u001b[38;5;124m\"\u001b[39m\u001b[38;5;124mpublisher connection to [\u001b[39m\u001b[38;5;132;01m%s\u001b[39;00m\u001b[38;5;124m] terminated, see errorlog for details:\u001b[39m\u001b[38;5;130;01m\\n\u001b[39;00m\u001b[38;5;132;01m%s\u001b[39;00m\u001b[38;5;124m\"\u001b[39m\u001b[38;5;241m%\u001b[39m(c\u001b[38;5;241m.\u001b[39mendpoint_id, traceback\u001b[38;5;241m.\u001b[39mformat_exc()))\n",
      "File \u001b[0;32m/opt/ros/noetic/lib/python3/dist-packages/rospy/impl/tcpros_pubsub.py:420\u001b[0m, in \u001b[0;36mQueuedConnection.write_data\u001b[0;34m(self, data)\u001b[0m\n\u001b[1;32m    418\u001b[0m     \u001b[38;5;28mself\u001b[39m\u001b[38;5;241m.\u001b[39m_cond_data_available\u001b[38;5;241m.\u001b[39mnotify()\n\u001b[1;32m    419\u001b[0m \u001b[38;5;66;03m# effectively yields the rest of the thread quantum\u001b[39;00m\n\u001b[0;32m--> 420\u001b[0m \u001b[43mtime\u001b[49m\u001b[38;5;241;43m.\u001b[39;49m\u001b[43msleep\u001b[49m\u001b[43m(\u001b[49m\u001b[38;5;241;43m0\u001b[39;49m\u001b[43m)\u001b[49m\n\u001b[1;32m    421\u001b[0m \u001b[38;5;28;01mreturn\u001b[39;00m \u001b[38;5;28;01mTrue\u001b[39;00m\n",
      "\u001b[0;31mKeyboardInterrupt\u001b[0m: "
     ]
    }
   ],
   "source": [
    "for i in range (202):## 20 pasos  pueden ser mas\n",
    "    print ('step',i,'next ', next_state,'sensor izq', si,'sensor der', sd)\n",
    "#print (next_state)\n",
    "    if next_state== 's_0':\n",
    "        print ('im in state ' , next_state)\n",
    "        si,sd=get_lectura_cuant()\n",
    "        #ESTADO 0 obtener lectura\n",
    "        if (si==0 and sd==0): next_state='s_0'\n",
    "            \n",
    "        if (si==0 and sd==1): next_state='s_1'\n",
    "        if (si==1 and sd==0): next_state='s_3'\n",
    "        if (si==1 and sd==1): next_state='s_5'\n",
    "        #####Accion\n",
    "        move_forward()\n",
    "        \n",
    "\n",
    "\n",
    "\n",
    "    elif next_state== 's_1':\n",
    "        print ('im in state 1')\n",
    "\n",
    "        #####Accion\n",
    "        #move_backward()\n",
    "        \n",
    "\n",
    "        next_state='s_2'\n",
    "\n",
    "\n",
    "    elif next_state== 's_2':\n",
    "        print ('im in state 2')\n",
    "        #####Accion\n",
    "        turn_left()\n",
    "        next_state='s_0'\n",
    "\n",
    "\n",
    "    elif next_state== 's_3':\n",
    "        print ('im in state 3')\n",
    "        #####Accion\n",
    "        #move_backward()\n",
    "        next_state='s_4'\n",
    "\n",
    "\n",
    "    elif next_state== 's_4':\n",
    "        print ('im in state 4')\n",
    "        #####Accion\n",
    "        turn_right()\n",
    "        next_state='s_0'\n",
    "\n",
    "    elif next_state== 's_5':\n",
    "        print ('im in state 5')\n",
    "\n",
    "        #####Accion\n",
    "\n",
    "        #move_backward()\n",
    "        next_state='s_6'\n",
    "\n",
    "    elif next_state== 's_6':\n",
    "        print ('im in state 6')\n",
    "        #####Accion\n",
    "        move_backward()\n",
    "        next_state='s_7'\n",
    "\n",
    "    elif next_state== 's_7':\n",
    "        print ('im in state 7')\n",
    "        #####Accion\n",
    "        turn_left()\n",
    "        next_state='s_8'\n",
    "\n",
    "    elif next_state== 's_8':\n",
    "        print ('im in state 8')\n",
    "\n",
    "        #####Accion\n",
    "        move_forward()\n",
    "        next_state='s_9'\n",
    "\n",
    "    elif next_state== 's_9':\n",
    "        print ('im in state 9')\n",
    "        #####Accion\n",
    "        move_forward()\n",
    "        next_state='s_10'\n",
    "\n",
    "    elif next_state== 's_10':\n",
    "        print ('im in state 10')\n",
    "        #####Accion\n",
    "        turn_right()\n",
    "        next_state='s_11'\n",
    "    elif next_state== 's_11':\n",
    "        print ('im in state 11')\n",
    "\n",
    "        #####Accion\n",
    "        #turn_right()\n",
    "        next_state='s_0'\n",
    "\n",
    "\n",
    "\n",
    "\n"
   ]
  },
  {
   "cell_type": "code",
   "execution_count": null,
   "metadata": {
    "id": "6fCHQW8D5lZD",
    "outputId": "756c3f59-4fa6-4f69-9ce0-432cd83e37e2"
   },
   "outputs": [],
   "source": []
  },
  {
   "cell_type": "code",
   "execution_count": null,
   "metadata": {
    "id": "7GqQxZHI5lZD"
   },
   "outputs": [],
   "source": []
  }
 ],
 "metadata": {
  "colab": {
   "provenance": []
  },
  "kernelspec": {
   "display_name": "Python 3 (ipykernel)",
   "language": "python",
   "name": "python3"
  },
  "language_info": {
   "codemirror_mode": {
    "name": "ipython",
    "version": 3
   },
   "file_extension": ".py",
   "mimetype": "text/x-python",
   "name": "python",
   "nbconvert_exporter": "python",
   "pygments_lexer": "ipython3",
   "version": "3.8.10"
  },
  "nbTranslate": {
   "displayLangs": [
    "ja",
    "en"
   ],
   "hotkey": "alt-t",
   "langInMainMenu": true,
   "sourceLang": "ja",
   "targetLang": "en",
   "useGoogleTranslate": true
  },
  "toc": {
   "base_numbering": 1,
   "nav_menu": {},
   "number_sections": true,
   "sideBar": true,
   "skip_h1_title": false,
   "title_cell": "Table of Contents",
   "title_sidebar": "Contents",
   "toc_cell": false,
   "toc_position": {},
   "toc_section_display": true,
   "toc_window_display": true
  }
 },
 "nbformat": 4,
 "nbformat_minor": 1
}
